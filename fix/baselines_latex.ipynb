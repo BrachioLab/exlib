{
 "cells": [
  {
   "cell_type": "code",
   "execution_count": 1,
   "id": "f08a5c00-d2db-4baa-aef7-5aa3fde4752a",
   "metadata": {},
   "outputs": [],
   "source": [
    "# generate the latex row with all results for baseline"
   ]
  },
  {
   "cell_type": "code",
   "execution_count": 2,
   "id": "cd751879-68ec-4dc1-946c-3661b7340425",
   "metadata": {},
   "outputs": [],
   "source": [
    "import torch"
   ]
  },
  {
   "cell_type": "markdown",
   "id": "bd2be81d-a0dd-4036-9538-a34e63a0de7a",
   "metadata": {},
   "source": [
    "## bootstrapping"
   ]
  },
  {
   "cell_type": "code",
   "execution_count": 3,
   "id": "7494a2d0-8f21-43bf-8db8-e3b1d54b0bda",
   "metadata": {},
   "outputs": [],
   "source": [
    "def bootstrap(scores):\n",
    "    scores_samples = []\n",
    "    means = []\n",
    "\n",
    "    for _ in range(5):\n",
    "        scores_new = torch.zeros(scores.shape)\n",
    "        for i in range(len(scores_new)):\n",
    "            # print(i)\n",
    "            index = torch.randperm(len(scores_new))[0]\n",
    "            scores_new[i] = scores[index]\n",
    "\n",
    "        means.append(torch.mean(scores_new))\n",
    "        scores_samples.append(scores_new)\n",
    "    return torch.std(torch.stack(means))"
   ]
  },
  {
   "cell_type": "code",
   "execution_count": 4,
   "id": "be7b37a1-d445-4413-996f-0f4b59a95555",
   "metadata": {},
   "outputs": [
    {
     "name": "stdout",
     "output_type": "stream",
     "text": [
      "generating latex rows...\n",
      "\n",
      "& watershed & 0.5662 $\\pm$ 0.0004\\\\\n",
      "& watershed_norm_05 & 0.5647 $\\pm$ 0.0006\\\\\n",
      "& watershed_norm_1 & 0.5650 $\\pm$ 0.0002\\\\\n",
      "& quickshift & 0.5580 $\\pm$ 0.0006\\\\\n",
      "& patch & 0.5618 $\\pm$ 0.0005\\\\\n"
     ]
    }
   ],
   "source": [
    "setting = 'mass_maps'\n",
    "alignment_scores_all = torch.load(f'results/{setting}/all_baselines_scores')\n",
    "print(\"generating latex rows...\\n\")\n",
    "for name in alignment_scores_all:\n",
    "    metric = torch.tensor(alignment_scores_all[name])\n",
    "    mean_metric = metric.mean()\n",
    "    metric_std = bootstrap(metric)\n",
    "    print(f'& {name} & {mean_metric:.4f} $\\pm$ {metric_std:.4f}' + chr(92)+ chr(92))"
   ]
  },
  {
   "cell_type": "code",
   "execution_count": 5,
   "id": "c7d50380-1cfe-4b31-adc5-a590dc5343cd",
   "metadata": {},
   "outputs": [
    {
     "name": "stdout",
     "output_type": "stream",
     "text": [
      "generating latex rows...\n",
      "\n",
      "& patch & 0.0251 $\\pm$ 0.0001 \\\\\n",
      "& quickshift & 0.2595 $\\pm$ 0.0151 \\\\\n",
      "& watershed & 0.0906 $\\pm$ 0.0050 \\\\\n"
     ]
    },
    {
     "name": "stderr",
     "output_type": "stream",
     "text": [
      "/tmp/ipykernel_2984/766375982.py:6: UserWarning: To copy construct from a tensor, it is recommended to use sourceTensor.clone().detach() or sourceTensor.clone().detach().requires_grad_(True), rather than torch.tensor(sourceTensor).\n",
      "  metric = torch.tensor(alignment_scores_all[name])\n"
     ]
    }
   ],
   "source": [
    "setting = 'cholec'\n",
    "alignment_scores_all = torch.load(f'results/{setting}/all_baselines_scores')\n",
    "\n",
    "print(\"generating latex rows...\\n\")\n",
    "for name in alignment_scores_all:\n",
    "    metric = torch.tensor(alignment_scores_all[name])\n",
    "    mean_metric = metric.mean()\n",
    "    metric_std = bootstrap(metric)\n",
    "    print(f'& {name} & {mean_metric:.4f} $\\pm$ {metric_std:.4f} ' + chr(92)+ chr(92))"
   ]
  },
  {
   "cell_type": "code",
   "execution_count": 16,
   "id": "b18868d1-2f46-4563-8c6e-310d26c67470",
   "metadata": {},
   "outputs": [
    {
     "name": "stdout",
     "output_type": "stream",
     "text": [
      "generating latex rows...\n",
      "\n",
      "& patch & 0.0251 $\\pm$ 0.0001 \\\\\n",
      "& quickshift & 0.2556 $\\pm$ 0.0222 \\\\\n",
      "& watershed & 0.0940 $\\pm$ 0.0076 \\\\\n"
     ]
    },
    {
     "name": "stderr",
     "output_type": "stream",
     "text": [
      "/tmp/ipykernel_2984/766375982.py:6: UserWarning: To copy construct from a tensor, it is recommended to use sourceTensor.clone().detach() or sourceTensor.clone().detach().requires_grad_(True), rather than torch.tensor(sourceTensor).\n",
      "  metric = torch.tensor(alignment_scores_all[name])\n"
     ]
    }
   ],
   "source": [
    "setting = 'cholec'\n",
    "alignment_scores_all = torch.load(f'results/{setting}/all_baselines_scores')\n",
    "\n",
    "print(\"generating latex rows...\\n\")\n",
    "for name in alignment_scores_all:\n",
    "    metric = torch.tensor(alignment_scores_all[name])\n",
    "    mean_metric = metric.mean()\n",
    "    metric_std = bootstrap(metric)\n",
    "    print(f'& {name} & {mean_metric:.4f} $\\pm$ {metric_std:.4f} ' + chr(92)+ chr(92))"
   ]
  },
  {
   "cell_type": "code",
   "execution_count": 6,
   "id": "cbf95741-6837-402a-9b16-70ae29c5ebf4",
   "metadata": {},
   "outputs": [
    {
     "name": "stdout",
     "output_type": "stream",
     "text": [
      "generating latex rows...\n",
      "\n",
      "& patch & 0.0998 $\\pm$ 0.0009 \\\\\n",
      "& quickshift & 0.3614 $\\pm$ 0.0044 \\\\\n",
      "& watershed & 0.0722 $\\pm$ 0.0008 \\\\\n"
     ]
    },
    {
     "name": "stderr",
     "output_type": "stream",
     "text": [
      "/tmp/ipykernel_2984/494388415.py:6: UserWarning: To copy construct from a tensor, it is recommended to use sourceTensor.clone().detach() or sourceTensor.clone().detach().requires_grad_(True), rather than torch.tensor(sourceTensor).\n",
      "  metric = torch.tensor(alignment_scores_all[name])\n"
     ]
    }
   ],
   "source": [
    "setting = 'chestx'\n",
    "alignment_scores_all = torch.load(f'results/{setting}/all_baselines_scores')\n",
    "\n",
    "print(\"generating latex rows...\\n\")\n",
    "for name in alignment_scores_all:\n",
    "    metric = torch.tensor(alignment_scores_all[name])\n",
    "    mean_metric = metric.mean()\n",
    "    metric_std = bootstrap(metric)\n",
    "    print(f'& {name} & {mean_metric:.4f} $\\pm$ {metric_std:.4f} ' + chr(92)+ chr(92))"
   ]
  },
  {
   "cell_type": "code",
   "execution_count": 15,
   "id": "8995fb2c-4be4-4c9e-bbb5-0de2df7dab96",
   "metadata": {},
   "outputs": [
    {
     "name": "stdout",
     "output_type": "stream",
     "text": [
      "generating latex rows...\n",
      "\n",
      "& patch & 0.0998 $\\pm$ 0.0006 \\\\\n",
      "& quickshift & 0.3455 $\\pm$ 0.0045 \\\\\n",
      "& watershed & 0.0729 $\\pm$ 0.0018 \\\\\n"
     ]
    },
    {
     "name": "stderr",
     "output_type": "stream",
     "text": [
      "/tmp/ipykernel_2984/494388415.py:6: UserWarning: To copy construct from a tensor, it is recommended to use sourceTensor.clone().detach() or sourceTensor.clone().detach().requires_grad_(True), rather than torch.tensor(sourceTensor).\n",
      "  metric = torch.tensor(alignment_scores_all[name])\n"
     ]
    }
   ],
   "source": [
    "setting = 'chestx'\n",
    "alignment_scores_all = torch.load(f'results/{setting}/all_baselines_scores')\n",
    "\n",
    "print(\"generating latex rows...\\n\")\n",
    "for name in alignment_scores_all:\n",
    "    metric = torch.tensor(alignment_scores_all[name])\n",
    "    mean_metric = metric.mean()\n",
    "    metric_std = bootstrap(metric)\n",
    "    print(f'& {name} & {mean_metric:.4f} $\\pm$ {metric_std:.4f} ' + chr(92)+ chr(92))"
   ]
  },
  {
   "cell_type": "code",
   "execution_count": 7,
   "id": "7809b54d-8455-4052-9e3d-00764e88a425",
   "metadata": {},
   "outputs": [
    {
     "name": "stdout",
     "output_type": "stream",
     "text": [
      "generating latex rows...\n",
      "\n",
      "& watershed & 0.3281 $\\pm$ 0.0066 \\\\\n"
     ]
    }
   ],
   "source": [
    "setting = 'supernova'\n",
    "alignment_scores_all = torch.load(f'results/{setting}/all_baselines_scores')\n",
    "\n",
    "print(\"generating latex rows...\\n\")\n",
    "metric = torch.tensor(alignment_scores_all)\n",
    "\n",
    "mean_metric = metric.mean()\n",
    "metric_std = bootstrap(metric)\n",
    "print(f'& {name} & {mean_metric:.4f} $\\pm$ {metric_std:.4f} ' + chr(92)+ chr(92))"
   ]
  },
  {
   "cell_type": "code",
   "execution_count": 12,
   "id": "b5dc74d3-be62-491f-818e-c55059617622",
   "metadata": {},
   "outputs": [
    {
     "name": "stdout",
     "output_type": "stream",
     "text": [
      "generating latex rows...\n",
      "\n",
      "& word & 0.6814 $\\pm$ 0.0026 \\\\\n",
      "& phrase & 0.6171 $\\pm$ 0.0105 \\\\\n",
      "& sentence & 0.6120 $\\pm$ 0.0016 \\\\\n"
     ]
    },
    {
     "name": "stderr",
     "output_type": "stream",
     "text": [
      "/tmp/ipykernel_2984/568555260.py:6: UserWarning: To copy construct from a tensor, it is recommended to use sourceTensor.clone().detach() or sourceTensor.clone().detach().requires_grad_(True), rather than torch.tensor(sourceTensor).\n",
      "  metric = torch.tensor(alignment_scores_all[name])\n"
     ]
    }
   ],
   "source": [
    "setting = 'politeness'\n",
    "alignment_scores_all = torch.load(f'results/{setting}/all_baselines_scores')\n",
    "\n",
    "print(\"generating latex rows...\\n\")\n",
    "for name in alignment_scores_all:\n",
    "    metric = torch.tensor(alignment_scores_all[name])\n",
    "    mean_metric = metric.mean()\n",
    "    metric_std = bootstrap(metric)\n",
    "    print(f'& {name} & {mean_metric:.4f} $\\pm$ {metric_std:.4f} ' + chr(92)+ chr(92))"
   ]
  },
  {
   "cell_type": "code",
   "execution_count": 17,
   "id": "7c8d4db8-dadf-4569-8de9-37e52e82ae77",
   "metadata": {},
   "outputs": [
    {
     "name": "stdout",
     "output_type": "stream",
     "text": [
      "generating latex rows...\n",
      "\n",
      "& word & 0.6854 $\\pm$ 0.0012 \\\\\n",
      "& phrase & 0.6350 $\\pm$ 0.0010 \\\\\n",
      "& sentence & 0.6109 $\\pm$ 0.0010 \\\\\n"
     ]
    },
    {
     "name": "stderr",
     "output_type": "stream",
     "text": [
      "/tmp/ipykernel_2984/568555260.py:6: UserWarning: To copy construct from a tensor, it is recommended to use sourceTensor.clone().detach() or sourceTensor.clone().detach().requires_grad_(True), rather than torch.tensor(sourceTensor).\n",
      "  metric = torch.tensor(alignment_scores_all[name])\n"
     ]
    }
   ],
   "source": [
    "setting = 'politeness'\n",
    "alignment_scores_all = torch.load(f'results/{setting}/all_baselines_scores')\n",
    "\n",
    "print(\"generating latex rows...\\n\")\n",
    "for name in alignment_scores_all:\n",
    "    metric = torch.tensor(alignment_scores_all[name])\n",
    "    mean_metric = metric.mean()\n",
    "    metric_std = bootstrap(metric)\n",
    "    print(f'& {name} & {mean_metric:.4f} $\\pm$ {metric_std:.4f} ' + chr(92)+ chr(92))"
   ]
  },
  {
   "cell_type": "code",
   "execution_count": 14,
   "id": "b79f2011-1c0d-48ec-b647-5bd488f45d92",
   "metadata": {},
   "outputs": [
    {
     "name": "stdout",
     "output_type": "stream",
     "text": [
      "generating latex rows...\n",
      "\n"
     ]
    },
    {
     "name": "stderr",
     "output_type": "stream",
     "text": [
      "/tmp/ipykernel_2984/1335306047.py:6: UserWarning: To copy construct from a tensor, it is recommended to use sourceTensor.clone().detach() or sourceTensor.clone().detach().requires_grad_(True), rather than torch.tensor(sourceTensor).\n",
      "  metric = torch.tensor(alignment_scores_all[name])\n"
     ]
    },
    {
     "name": "stdout",
     "output_type": "stream",
     "text": [
      "& word & 0.2701 $\\pm$ 0.0003 \\\\\n",
      "& phrase & 0.0425 $\\pm$ 0.0010 \\\\\n",
      "& sentence & 0.0301 $\\pm$ 0.0009 \\\\\n"
     ]
    }
   ],
   "source": [
    "setting = 'emotion'\n",
    "alignment_scores_all = torch.load(f'results/{setting}/all_baselines_scores')\n",
    "\n",
    "print(\"generating latex rows...\\n\")\n",
    "for name in alignment_scores_all:\n",
    "    metric = torch.tensor(alignment_scores_all[name])\n",
    "    mean_metric = metric.mean()\n",
    "    metric_std = bootstrap(metric)\n",
    "    print(f'& {name} & {mean_metric:.4f} $\\pm$ {metric_std:.4f} ' + chr(92)+ chr(92))"
   ]
  },
  {
   "cell_type": "code",
   "execution_count": null,
   "id": "eff6f5d1-bbf2-405d-b87c-3c4d0c309514",
   "metadata": {},
   "outputs": [],
   "source": []
  }
 ],
 "metadata": {
  "kernelspec": {
   "display_name": "Python 3 (ipykernel)",
   "language": "python",
   "name": "python3"
  },
  "language_info": {
   "codemirror_mode": {
    "name": "ipython",
    "version": 3
   },
   "file_extension": ".py",
   "mimetype": "text/x-python",
   "name": "python",
   "nbconvert_exporter": "python",
   "pygments_lexer": "ipython3",
   "version": "3.10.13"
  }
 },
 "nbformat": 4,
 "nbformat_minor": 5
}
