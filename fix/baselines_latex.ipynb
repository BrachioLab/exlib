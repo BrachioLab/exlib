{
 "cells": [
  {
   "cell_type": "code",
   "execution_count": 1,
   "id": "f08a5c00-d2db-4baa-aef7-5aa3fde4752a",
   "metadata": {},
   "outputs": [],
   "source": [
    "# generate the latex row with all results for baseline\n",
    "\n",
    "\n"
   ]
  },
  {
   "cell_type": "code",
   "execution_count": 8,
   "id": "cd751879-68ec-4dc1-946c-3661b7340425",
   "metadata": {},
   "outputs": [],
   "source": [
    "import torch"
   ]
  },
  {
   "cell_type": "markdown",
   "id": "296f77ee-77dc-46d5-a43f-ba6cbce29397",
   "metadata": {},
   "source": [
    "### mass maps"
   ]
  },
  {
   "cell_type": "code",
   "execution_count": 41,
   "id": "80276829-5dc9-45ab-86d3-997d479bbcae",
   "metadata": {},
   "outputs": [],
   "source": [
    "setting = 'mass_maps'\n",
    "alignment_scores_all = torch.load(f'results/{setting}/all_baselines_scores')"
   ]
  },
  {
   "cell_type": "code",
   "execution_count": 42,
   "id": "29d486c6-1a75-4acf-9afe-e21c59f657e3",
   "metadata": {},
   "outputs": [
    {
     "name": "stdout",
     "output_type": "stream",
     "text": [
      "watershed tensor(0.5662)\n",
      "watershed_norm_05 tensor(0.5647)\n",
      "watershed_norm_1 tensor(0.5650)\n",
      "quickshift tensor(0.5580)\n",
      "patch tensor(0.5618)\n"
     ]
    }
   ],
   "source": [
    "for name in alignment_scores_all:\n",
    "    mean_align = torch.mean(torch.stack([torch.mean(torch.tensor(alignment_scores_all[name][i])) \\\n",
    "                          for i in range(len(alignment_scores_all[name]))]))\n",
    "    print(name, mean_align)\n"
   ]
  },
  {
   "cell_type": "code",
   "execution_count": 14,
   "id": "992ecf46-67df-4a1f-910a-25ef835b39ae",
   "metadata": {},
   "outputs": [
    {
     "name": "stdout",
     "output_type": "stream",
     "text": [
      "watershed tensor(0.9988)\n",
      "watershed_norm_05 tensor(1.0000)\n",
      "watershed_norm_1 tensor(1.0000)\n",
      "quickshift tensor(1.0000)\n",
      "patch tensor(0.9166)\n"
     ]
    }
   ],
   "source": [
    "for name in alignment_scores_all:\n",
    "    max_align = torch.mean(torch.stack([torch.max(torch.tensor(alignment_scores_all[name][i])) \\\n",
    "                          for i in range(len(alignment_scores_all[name]))]))\n",
    "    print(name, max_align)\n"
   ]
  },
  {
   "cell_type": "code",
   "execution_count": 43,
   "id": "c1c6fd16-2c4d-45dd-bc22-78e4a44236d8",
   "metadata": {},
   "outputs": [
    {
     "name": "stdout",
     "output_type": "stream",
     "text": [
      "watershed tensor(0.5662)\n",
      "watershed_norm_05 tensor(0.5647)\n",
      "watershed_norm_1 tensor(0.5650)\n",
      "quickshift tensor(0.5580)\n",
      "patch tensor(0.5618)\n"
     ]
    }
   ],
   "source": [
    "for name in alignment_scores_all:\n",
    "    metric = torch.tensor(alignment_scores_all[name])\n",
    "    mean_metric = metric.mean()\n",
    "    # mean_align = torch.mean(torch.stack([torch.mean(torch.tensor(alignment_scores_all[name][i])) \\\n",
    "    #                       for i in range(len(alignment_scores_all[name]))]))\n",
    "    print(name, mean_metric)"
   ]
  },
  {
   "cell_type": "code",
   "execution_count": 32,
   "id": "480036ab-c248-40d6-be75-48540a3a9500",
   "metadata": {},
   "outputs": [
    {
     "name": "stdout",
     "output_type": "stream",
     "text": [
      "generating latex rows...\n",
      "\n",
      "& watershed & 0.5670 \\\\\n",
      "& watershed_norm_05 & 0.5656 \\\\\n",
      "& watershed_norm_1 & 0.5660 \\\\\n",
      "& quickshift & 0.5587 \\\\\n",
      "& patch & 0.5628 \\\\\n"
     ]
    }
   ],
   "source": [
    "setting = 'mass_maps'\n",
    "print(\"generating latex rows...\\n\")\n",
    "for name in alignment_scores_all:\n",
    "    metric = torch.tensor(alignment_scores_all[name])\n",
    "    mean_metric = metric.mean()\n",
    "    # mean_align = torch.mean(torch.stack([torch.mean(torch.tensor(alignment_scores_all[name][i])) \\\n",
    "    #                       for i in range(len(alignment_scores_all[name]))]))\n",
    "    # print(f'{setting} & {name} & {mean_metric} ' + chr(92)+ chr(92))\n",
    "    print(f'& {name} & {mean_metric:.4f} ' + chr(92)+ chr(92))"
   ]
  },
  {
   "cell_type": "markdown",
   "id": "bd2be81d-a0dd-4036-9538-a34e63a0de7a",
   "metadata": {},
   "source": [
    "## bootstrapping"
   ]
  },
  {
   "cell_type": "code",
   "execution_count": 35,
   "id": "7494a2d0-8f21-43bf-8db8-e3b1d54b0bda",
   "metadata": {},
   "outputs": [],
   "source": [
    "def bootstrap(scores):\n",
    "    scores_samples = []\n",
    "    means = []\n",
    "\n",
    "    for _ in range(5):\n",
    "        scores_new = torch.zeros(scores.shape)\n",
    "        for i in range(len(scores_new)):\n",
    "            # print(i)\n",
    "            index = torch.randperm(len(scores_new))[0]\n",
    "            scores_new[i] = scores[index]\n",
    "\n",
    "        means.append(torch.mean(scores_new))\n",
    "        scores_samples.append(scores_new)\n",
    "    return torch.std(torch.stack(means))"
   ]
  },
  {
   "cell_type": "code",
   "execution_count": 38,
   "id": "97b8dd77-1457-4feb-bafc-f5bac183b396",
   "metadata": {},
   "outputs": [
    {
     "data": {
      "text/plain": [
       "tensor(0.0038)"
      ]
     },
     "execution_count": 38,
     "metadata": {},
     "output_type": "execute_result"
    }
   ],
   "source": [
    "name = 'patch'\n",
    "metric = torch.tensor(alignment_scores_all[name])\n",
    "bootstrap(metric)\n",
    "\n"
   ]
  },
  {
   "cell_type": "code",
   "execution_count": 39,
   "id": "8ec3c25f-1f33-409a-baac-75de1e9373a8",
   "metadata": {},
   "outputs": [
    {
     "data": {
      "text/plain": [
       "tensor(0.0075)"
      ]
     },
     "execution_count": 39,
     "metadata": {},
     "output_type": "execute_result"
    }
   ],
   "source": [
    "name = 'watershed'\n",
    "metric = torch.tensor(alignment_scores_all[name])\n",
    "bootstrap(metric)"
   ]
  },
  {
   "cell_type": "code",
   "execution_count": 46,
   "id": "a1526d33-5510-471c-b4d5-eb790dcc6df9",
   "metadata": {},
   "outputs": [
    {
     "name": "stdout",
     "output_type": "stream",
     "text": [
      "generating latex rows...\n",
      "\n",
      "& watershed & 0.5662 $\\pm$ 0.0006\\\\\n",
      "& watershed_norm_05 & 0.5647 $\\pm$ 0.0013\\\\\n",
      "& watershed_norm_1 & 0.5650 $\\pm$ 0.0003\\\\\n",
      "& quickshift & 0.5580 $\\pm$ 0.0004\\\\\n",
      "& patch & 0.5618 $\\pm$ 0.0008\\\\\n"
     ]
    }
   ],
   "source": [
    "setting = 'mass_maps'\n",
    "print(\"generating latex rows...\\n\")\n",
    "for name in alignment_scores_all:\n",
    "    metric = torch.tensor(alignment_scores_all[name])\n",
    "    mean_metric = metric.mean()\n",
    "    metric_std = bootstrap(metric)\n",
    "    print(f'& {name} & {mean_metric:.4f} $\\pm$ {metric_std:.4f}' + chr(92)+ chr(92))"
   ]
  },
  {
   "cell_type": "code",
   "execution_count": 49,
   "id": "1f364cf4-4348-4ba8-bfb0-c96fa8e92095",
   "metadata": {},
   "outputs": [
    {
     "name": "stdout",
     "output_type": "stream",
     "text": [
      "generating latex rows...\n",
      "\n",
      "& patch & 0.0251 $\\pm$ 0.0001 \\\\\n",
      "& quickshift & 0.2082 $\\pm$ 0.0215 \\\\\n"
     ]
    },
    {
     "name": "stderr",
     "output_type": "stream",
     "text": [
      "/tmp/ipykernel_57/766375982.py:6: UserWarning: To copy construct from a tensor, it is recommended to use sourceTensor.clone().detach() or sourceTensor.clone().detach().requires_grad_(True), rather than torch.tensor(sourceTensor).\n",
      "  metric = torch.tensor(alignment_scores_all[name])\n"
     ]
    }
   ],
   "source": [
    "setting = 'cholec'\n",
    "alignment_scores_all = torch.load(f'results/{setting}/all_baselines_scores')\n",
    "\n",
    "print(\"generating latex rows...\\n\")\n",
    "for name in alignment_scores_all:\n",
    "    metric = torch.tensor(alignment_scores_all[name])\n",
    "    mean_metric = metric.mean()\n",
    "    metric_std = bootstrap(metric)\n",
    "    print(f'& {name} & {mean_metric:.4f} $\\pm$ {metric_std:.4f} ' + chr(92)+ chr(92))"
   ]
  },
  {
   "cell_type": "code",
   "execution_count": 53,
   "id": "498cc446-03c7-4635-b018-f253a5f86bb6",
   "metadata": {},
   "outputs": [
    {
     "name": "stdout",
     "output_type": "stream",
     "text": [
      "generating latex rows...\n",
      "\n",
      "& patch & 0.0997 $\\pm$ 0.0017 \\\\\n",
      "& quickshift & 0.3627 $\\pm$ 0.0048 \\\\\n"
     ]
    },
    {
     "name": "stderr",
     "output_type": "stream",
     "text": [
      "/tmp/ipykernel_57/494388415.py:6: UserWarning: To copy construct from a tensor, it is recommended to use sourceTensor.clone().detach() or sourceTensor.clone().detach().requires_grad_(True), rather than torch.tensor(sourceTensor).\n",
      "  metric = torch.tensor(alignment_scores_all[name])\n"
     ]
    }
   ],
   "source": [
    "setting = 'chestx'\n",
    "alignment_scores_all = torch.load(f'results/{setting}/all_baselines_scores')\n",
    "\n",
    "print(\"generating latex rows...\\n\")\n",
    "for name in alignment_scores_all:\n",
    "    metric = torch.tensor(alignment_scores_all[name])\n",
    "    mean_metric = metric.mean()\n",
    "    metric_std = bootstrap(metric)\n",
    "    print(f'& {name} & {mean_metric:.4f} $\\pm$ {metric_std:.4f} ' + chr(92)+ chr(92))"
   ]
  },
  {
   "cell_type": "code",
   "execution_count": 55,
   "id": "dfaa74a0-d127-42c9-855f-9a6ce75cb292",
   "metadata": {},
   "outputs": [
    {
     "data": {
      "text/plain": [
       "torch.Size([48])"
      ]
     },
     "execution_count": 55,
     "metadata": {},
     "output_type": "execute_result"
    }
   ],
   "source": [
    "alignment_scores_all[name].shape"
   ]
  },
  {
   "cell_type": "code",
   "execution_count": 56,
   "id": "0d9eb188-585b-420c-ad64-25162a3cdc3b",
   "metadata": {},
   "outputs": [
    {
     "data": {
      "text/plain": [
       "dict_keys(['patch', 'quickshift'])"
      ]
     },
     "execution_count": 56,
     "metadata": {},
     "output_type": "execute_result"
    }
   ],
   "source": [
    "alignment_scores_all.keys()"
   ]
  },
  {
   "cell_type": "code",
   "execution_count": null,
   "id": "e4b4bbd1-f48d-4b87-ac9e-abe79c109667",
   "metadata": {},
   "outputs": [],
   "source": []
  }
 ],
 "metadata": {
  "kernelspec": {
   "display_name": "Python 3 (ipykernel)",
   "language": "python",
   "name": "python3"
  },
  "language_info": {
   "codemirror_mode": {
    "name": "ipython",
    "version": 3
   },
   "file_extension": ".py",
   "mimetype": "text/x-python",
   "name": "python",
   "nbconvert_exporter": "python",
   "pygments_lexer": "ipython3",
   "version": "3.10.13"
  }
 },
 "nbformat": 4,
 "nbformat_minor": 5
}
