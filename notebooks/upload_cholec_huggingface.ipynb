{
 "cells": [
  {
   "cell_type": "code",
   "execution_count": 1,
   "id": "53b8ea20-9fac-4671-bcac-00aaa43c94ff",
   "metadata": {},
   "outputs": [
    {
     "name": "stderr",
     "output_type": "stream",
     "text": [
      "/home/antonxue/lib/miniconda3/envs/exlib/lib/python3.11/site-packages/tqdm/auto.py:21: TqdmWarning: IProgress not found. Please update jupyter and ipywidgets. See https://ipywidgets.readthedocs.io/en/stable/user_install.html\n",
      "  from .autonotebook import tqdm as notebook_tqdm\n"
     ]
    }
   ],
   "source": [
    "import os\n",
    "import random\n",
    "import torch\n",
    "import torch.nn as nn\n",
    "import torch.nn.functional as F\n",
    "from torch.utils.data import Dataset\n",
    "import torchvision.transforms as transforms\n",
    "from PIL import Image\n",
    "import glob\n",
    "from collections import namedtuple\n",
    "from typing import Optional, Union, List\n",
    "\n",
    "import os\n",
    "import datasets as hfds\n",
    "import huggingface_hub as hfhub\n",
    "import torch\n",
    "import torchvision.transforms.functional as tff\n",
    "import matplotlib.pyplot as plt"
   ]
  },
  {
   "cell_type": "code",
   "execution_count": 2,
   "id": "df449fda-72b5-449e-8584-202e5be33204",
   "metadata": {},
   "outputs": [
    {
     "name": "stdout",
     "output_type": "stream",
     "text": [
      "The token has not been saved to the git credentials helper. Pass `add_to_git_credential=True` in this function directly or `--add-to-git-credential` if using via `huggingface-cli` if you want to set the git credential as well.\n",
      "Token is valid (permission: write).\n",
      "Your token has been saved to /home/antonxue/.cache/huggingface/token\n",
      "Login successful\n"
     ]
    }
   ],
   "source": [
    "hfhub.login(os.getenv(\"HF_TOKEN\"))"
   ]
  },
  {
   "cell_type": "code",
   "execution_count": 3,
   "id": "43065b60-17f4-4efa-ab7d-4adf0574d2d2",
   "metadata": {},
   "outputs": [],
   "source": [
    "VIDEO_GLOBS = \\\n",
    "      [f\"AdnanSet_LC_{i}_*\" for i in range(1,165)] \\\n",
    "    + [f\"AminSet_LC_{i}_*\" for i in range(1,11)] \\\n",
    "    + [f\"cholec80_video0{i}_*\" for i in range(1,10)] \\\n",
    "    + [f\"cholec80_video{i}_*\" for i in range(10,81)] \\\n",
    "    + [\"HokkaidoSet_LC_1_*\", \"HokkaidoSet_LC_2_*\"] \\\n",
    "    + [f\"M2CCAI2016_video{i}_*\" for i in range(81,122)] \\\n",
    "    + [f\"UTSWSet_Case_{i}_*\" for i in range(1,13)] \\\n",
    "    + [f\"WashUSet_LC_01_*\"]\n",
    "\n",
    "class AbdomenOrgans(Dataset):\n",
    "    def __init__(self,\n",
    "                 data_dir,\n",
    "                 images_dirname = \"images\",\n",
    "                 gonogo_labels_dirname = \"gonogo_labels\",\n",
    "                 organ_labels_dirname = \"organ_labels\",\n",
    "                 split = \"train\",\n",
    "                 train_ratio = 0.8,\n",
    "                 image_height = 384,  # Default image height / widths\n",
    "                 image_width = 640,\n",
    "                 image_transforms = None,\n",
    "                 label_transforms = None,\n",
    "                 split_seed = 1234,\n",
    "                 download = False):\n",
    "        if download:\n",
    "            raise ValueError(\"download not implemented\")\n",
    "\n",
    "        self.data_dir = data_dir\n",
    "        self.images_dir = os.path.join(data_dir, images_dirname)\n",
    "        self.gonogo_labels_dir = os.path.join(data_dir, gonogo_labels_dirname)\n",
    "        self.organ_labels_dir = os.path.join(data_dir, organ_labels_dirname)\n",
    "\n",
    "        self.split = split\n",
    "\n",
    "        # Split not regarding video\n",
    "        torch.manual_seed(split_seed)\n",
    "        if split == \"train\" or split == \"test\":\n",
    "            all_image_filenames = sorted(os.listdir(self.images_dir))\n",
    "            num_all, num_train = len(all_image_filenames), int(len(all_image_filenames) * train_ratio)\n",
    "            idx_perms = torch.randperm(num_all)\n",
    "            todo_idxs = idx_perms[:num_train] if split == \"train\" else idx_perms[num_train:]\n",
    "            self.image_filenames = sorted([all_image_filenames[i] for i in todo_idxs])\n",
    "\n",
    "        # Split by the video source\n",
    "        elif split == \"train_video\" or split == \"test_video\":\n",
    "            num_all, num_train = len(VIDEO_GLOBS), int(len(VIDEO_GLOBS) * train_ratio)\n",
    "            idx_perms = torch.randperm(num_all)\n",
    "            todo_idxs = idx_perms[:num_train] if \"train\" in split else idx_perms[num_train:]\n",
    "\n",
    "            image_filenames = []\n",
    "            for idx in todo_idxs:\n",
    "                image_filenames += glob.glob(os.path.join(self.images_dir, VIDEO_GLOBS[idx]))\n",
    "            image_filenames = [os.path.basename(f) for f in image_filenames]\n",
    "            self.image_filenames = sorted(image_filenames)\n",
    "\n",
    "        else:\n",
    "            raise NotImplementedError()\n",
    "\n",
    "        self.image_height = image_height\n",
    "        self.image_width = image_width\n",
    "\n",
    "    def __len__(self):\n",
    "        return len(self.image_filenames)\n",
    "\n",
    "    def __getitem__(self, idx):\n",
    "        image_file = os.path.join(self.images_dir, self.image_filenames[idx])\n",
    "        organ_label_file = os.path.join(self.organ_labels_dir, self.image_filenames[idx])\n",
    "        gonogo_label_file = os.path.join(self.gonogo_labels_dir, self.image_filenames[idx])\n",
    "\n",
    "        # Read image and label\n",
    "        image = Image.open(image_file).convert(\"RGB\")\n",
    "        organ_label = Image.open(organ_label_file).convert(\"L\") # L is grayscale\n",
    "        gonogo_label = Image.open(gonogo_label_file).convert(\"L\")\n",
    "\n",
    "        filename = os.path.basename(image_file)\n",
    "        \n",
    "        return {\n",
    "            \"image\": image,\n",
    "            \"organ\": organ_label,\n",
    "            \"gonogo\": gonogo_label,\n",
    "            \"id\": filename\n",
    "        }\n",
    "        "
   ]
  },
  {
   "cell_type": "code",
   "execution_count": 4,
   "id": "87fee65f-368f-45c0-a491-0e9e04c29bf4",
   "metadata": {},
   "outputs": [],
   "source": [
    "train_dataset = AbdomenOrgans(\"/home/antonxue/foo/data/abdomen_dafe/\", split=\"train_video\")\n",
    "test_dataset = AbdomenOrgans(\"/home/antonxue/foo/data/abdomen_dafe/\", split=\"test_video\")"
   ]
  },
  {
   "cell_type": "code",
   "execution_count": 5,
   "id": "5ef77b91-f0d8-4241-b4e5-e50617543526",
   "metadata": {},
   "outputs": [
    {
     "data": {
      "text/plain": [
       "(785, 230)"
      ]
     },
     "execution_count": 5,
     "metadata": {},
     "output_type": "execute_result"
    }
   ],
   "source": [
    "len(train_dataset), len(test_dataset)"
   ]
  },
  {
   "cell_type": "code",
   "execution_count": 6,
   "id": "0198a9cd-856a-4c11-9e39-0f4adf394620",
   "metadata": {},
   "outputs": [
    {
     "data": {
      "text/plain": [
       "{'image': <PIL.Image.Image image mode=RGB size=640x360>,\n",
       " 'organ': <PIL.Image.Image image mode=L size=640x360>,\n",
       " 'gonogo': <PIL.Image.Image image mode=L size=640x360>,\n",
       " 'id': 'M2CCAI2016_video100_003.png'}"
      ]
     },
     "execution_count": 6,
     "metadata": {},
     "output_type": "execute_result"
    }
   ],
   "source": [
    "train_dataset[0]"
   ]
  },
  {
   "cell_type": "code",
   "execution_count": 7,
   "id": "7a918dbc-0d42-43cd-84c1-52ad967920dc",
   "metadata": {},
   "outputs": [
    {
     "data": {
      "text/plain": [
       "<matplotlib.image.AxesImage at 0x76c5e041e010>"
      ]
     },
     "execution_count": 7,
     "metadata": {},
     "output_type": "execute_result"
    },
    {
     "data": {
      "image/png": "[encoded data removed]",
      "text/plain": [
       "<Figure size 640x480 with 1 Axes>"
      ]
     },
     "metadata": {},
     "output_type": "display_data"
    }
   ],
   "source": [
    "plt.clf()\n",
    "plt.imshow(train_dataset[0][\"organ\"])"
   ]
  },
  {
   "cell_type": "code",
   "execution_count": 8,
   "id": "5c9d5659-d966-41ec-93d8-ab3f2d7cdf2a",
   "metadata": {},
   "outputs": [
    {
     "data": {
      "text/plain": [
       "<matplotlib.image.AxesImage at 0x76c4fbb53bd0>"
      ]
     },
     "execution_count": 8,
     "metadata": {},
     "output_type": "execute_result"
    },
    {
     "data": {
      "image/png": "[encoded data removed]",
      "text/plain": [
       "<Figure size 640x480 with 1 Axes>"
      ]
     },
     "metadata": {},
     "output_type": "display_data"
    }
   ],
   "source": [
    "plt.clf()\n",
    "plt.imshow(train_dataset[0][\"gonogo\"])"
   ]
  },
  {
   "cell_type": "code",
   "execution_count": 9,
   "id": "8734157d-3fd5-4b20-b205-16567b22bfb4",
   "metadata": {},
   "outputs": [],
   "source": [
    "def gen_train():\n",
    "    for it in train_dataset:\n",
    "        yield it\n",
    "\n",
    "def gen_test():\n",
    "    for it in test_dataset:\n",
    "        yield it"
   ]
  },
  {
   "cell_type": "code",
   "execution_count": 10,
   "id": "e18483b9-92ea-4d5f-82e7-5ffd8ccce2d2",
   "metadata": {},
   "outputs": [
    {
     "name": "stderr",
     "output_type": "stream",
     "text": [
      "Generating train split: 785 examples [00:39, 19.90 examples/s] \n"
     ]
    }
   ],
   "source": [
    "hfds_train = hfds.Dataset.from_generator(gen_train)"
   ]
  },
  {
   "cell_type": "code",
   "execution_count": 11,
   "id": "d57e3a92-2b93-4376-9ce2-4e695e4eb832",
   "metadata": {},
   "outputs": [
    {
     "name": "stderr",
     "output_type": "stream",
     "text": [
      "Generating train split: 230 examples [00:11, 20.19 examples/s] \n"
     ]
    }
   ],
   "source": [
    "hfds_test = hfds.Dataset.from_generator(gen_test)"
   ]
  },
  {
   "cell_type": "code",
   "execution_count": 12,
   "id": "bb5d7ea4-a921-40c3-ac69-18dabbf9946e",
   "metadata": {},
   "outputs": [],
   "source": [
    "hfds_all = hfds.DatasetDict({\n",
    "    \"train\": hfds_train,\n",
    "    \"test\": hfds_test\n",
    "})"
   ]
  },
  {
   "cell_type": "code",
   "execution_count": 13,
   "id": "60ae565e-a3ab-4a9b-b3bf-3c89a436c817",
   "metadata": {},
   "outputs": [
    {
     "data": {
      "text/plain": [
       "DatasetDict({\n",
       "    train: Dataset({\n",
       "        features: ['image', 'organ', 'gonogo', 'id'],\n",
       "        num_rows: 785\n",
       "    })\n",
       "    test: Dataset({\n",
       "        features: ['image', 'organ', 'gonogo', 'id'],\n",
       "        num_rows: 230\n",
       "    })\n",
       "})"
      ]
     },
     "execution_count": 13,
     "metadata": {},
     "output_type": "execute_result"
    }
   ],
   "source": [
    "hfds_all"
   ]
  },
  {
   "cell_type": "code",
   "execution_count": 17,
   "id": "6e9c5648-b8f7-4226-bf45-593401d35adf",
   "metadata": {},
   "outputs": [
    {
     "name": "stderr",
     "output_type": "stream",
     "text": [
      "Uploading the dataset shards:   0%|                                                              | 0/1 [00:00<?, ?it/s]\n",
      "Map:   0%|                                                                              | 0/785 [00:00<?, ? examples/s]\u001b[A\n",
      "Map: 100%|██████████████████████████████████████████████████████████████████| 785/785 [00:00<00:00, 1915.45 examples/s]\u001b[A\n",
      "\n",
      "Creating parquet from Arrow format:   0%|                                                        | 0/8 [00:00<?, ?ba/s]\u001b[A\n",
      "Creating parquet from Arrow format:  25%|████████████                                    | 2/8 [00:00<00:00, 18.58ba/s]\u001b[A\n",
      "Creating parquet from Arrow format:  50%|████████████████████████                        | 4/8 [00:00<00:00, 16.67ba/s]\u001b[A\n",
      "Creating parquet from Arrow format: 100%|████████████████████████████████████████████████| 8/8 [00:00<00:00, 18.91ba/s]\u001b[A\n",
      "Uploading the dataset shards: 100%|██████████████████████████████████████████████████████| 1/1 [00:05<00:00,  5.04s/it]\n",
      "Uploading the dataset shards:   0%|                                                              | 0/1 [00:00<?, ?it/s]\n",
      "Map:   0%|                                                                              | 0/230 [00:00<?, ? examples/s]\u001b[A\n",
      "Map: 100%|██████████████████████████████████████████████████████████████████| 230/230 [00:00<00:00, 1971.35 examples/s]\u001b[A\n",
      "\n",
      "Creating parquet from Arrow format:   0%|                                                        | 0/3 [00:00<?, ?ba/s]\u001b[A\n",
      "Creating parquet from Arrow format: 100%|████████████████████████████████████████████████| 3/3 [00:00<00:00, 23.22ba/s]\u001b[A\n",
      "Uploading the dataset shards: 100%|██████████████████████████████████████████████████████| 1/1 [00:01<00:00,  1.76s/it]\n"
     ]
    },
    {
     "data": {
      "text/plain": [
       "CommitInfo(commit_url='https://huggingface.co/datasets/BrachioLab/cholec/commit/fdbc539decca47c492d27d7d6806ec281dd0ad65', commit_message='Upload dataset', commit_description='', oid='fdbc539decca47c492d27d7d6806ec281dd0ad65', pr_url=None, pr_revision=None, pr_num=None)"
      ]
     },
     "execution_count": 17,
     "metadata": {},
     "output_type": "execute_result"
    }
   ],
   "source": [
    "# hfds_all.push_to_hub(\"BrachioLab/cholec\")"
   ]
  },
  {
   "cell_type": "code",
   "execution_count": null,
   "id": "39acf556-868d-4559-b1af-cdfa3f57d3d8",
   "metadata": {},
   "outputs": [],
   "source": []
  },
  {
   "cell_type": "code",
   "execution_count": null,
   "id": "06d97a15-0b2c-4f6e-b3a5-fafa9ca4461c",
   "metadata": {},
   "outputs": [],
   "source": []
  }
 ],
 "metadata": {
  "kernelspec": {
   "display_name": "Python 3 (ipykernel)",
   "language": "python",
   "name": "python3"
  },
  "language_info": {
   "codemirror_mode": {
    "name": "ipython",
    "version": 3
   },
   "file_extension": ".py",
   "mimetype": "text/x-python",
   "name": "python",
   "nbconvert_exporter": "python",
   "pygments_lexer": "ipython3",
   "version": "3.11.9"
  }
 },
 "nbformat": 4,
 "nbformat_minor": 5
}
