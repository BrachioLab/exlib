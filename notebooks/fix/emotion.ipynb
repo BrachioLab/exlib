{
 "cells": [
  {
   "cell_type": "code",
   "execution_count": 1,
   "metadata": {},
   "outputs": [],
   "source": [
    "# Uncomment line below to install exlib\n",
    "# !pip install exlib"
   ]
  },
  {
   "cell_type": "code",
   "execution_count": 2,
   "metadata": {
    "tags": []
   },
   "outputs": [
    {
     "name": "stderr",
     "output_type": "stream",
     "text": [
      "/home/antonxue/lib/miniconda3/envs/exlib/lib/python3.11/site-packages/tqdm/auto.py:21: TqdmWarning: IProgress not found. Please update jupyter and ipywidgets. See https://ipywidgets.readthedocs.io/en/stable/user_install.html\n",
      "  from .autonotebook import tqdm as notebook_tqdm\n"
     ]
    }
   ],
   "source": [
    "import torch\n",
    "from transformers import AutoModel, AutoTokenizer\n",
    "import numpy as np\n",
    "import tqdm\n",
    "from tqdm import tqdm\n",
    "from torch.utils.data import DataLoader\n",
    "from datasets import load_dataset\n",
    "import torch.nn as nn\n",
    "import sentence_transformers\n",
    "\n",
    "import sys\n",
    "sys.path.insert(0, \"../../src\")\n",
    "import exlib\n",
    "from exlib.utils.emotion_helper import project_points_onto_axes, load_emotions\n",
    "from exlib.datasets.emotion import load_data, load_model, EmotionDataset, EmotionClassifier, EmotionFixScore, get_emotion_scores\n",
    "\n",
    "from exlib.features.text import *\n",
    "\n",
    "device = torch.device(\"cuda\" if torch.cuda.is_available() else \"cpu\")"
   ]
  },
  {
   "cell_type": "markdown",
   "metadata": {},
   "source": [
    "### Load datasets and pre-trained models"
   ]
  },
  {
   "cell_type": "code",
   "execution_count": 3,
   "metadata": {
    "scrolled": true,
    "tags": []
   },
   "outputs": [
    {
     "name": "stdout",
     "output_type": "stream",
     "text": [
      "SamLowe/roberta-base-go_emotions\n"
     ]
    }
   ],
   "source": [
    "dataset = EmotionDataset(\"test\")\n",
    "dataloader = DataLoader(dataset, batch_size=4, shuffle=False)\n",
    "model = EmotionClassifier().eval().to(device)"
   ]
  },
  {
   "cell_type": "markdown",
   "metadata": {},
   "source": [
    "### Model prediction"
   ]
  },
  {
   "cell_type": "code",
   "execution_count": 4,
   "metadata": {
    "tags": []
   },
   "outputs": [
    {
     "name": "stderr",
     "output_type": "stream",
     "text": [
      "  0%|                             | 0/1357 [00:00<?, ?it/s]"
     ]
    },
    {
     "name": "stdout",
     "output_type": "stream",
     "text": [
      "Text: I’m really sorry about your situation :( Although I love the names Sapphira, Cirilla, and Scarlett!\n",
      "Emotion: remorse\n",
      "\n",
      "Text: It's wonderful because it's awful. At not with.\n",
      "Emotion: admiration\n",
      "\n",
      "Text: Kings fan here, good luck to you guys! Will be an interesting game to watch! \n",
      "Emotion: optimism\n",
      "\n",
      "Text: I didn't know that, thank you for teaching me something today!\n",
      "Emotion: gratitude\n",
      "\n"
     ]
    },
    {
     "name": "stderr",
     "output_type": "stream",
     "text": [
      "\n"
     ]
    }
   ],
   "source": [
    "for batch in tqdm(dataloader): \n",
    "    input_ids = batch['input_ids'].to(device)\n",
    "    attention_mask = batch['attention_mask'].to(device)\n",
    "    output = model(input_ids, attention_mask)\n",
    "    utterances = [dataset.tokenizer.decode(input_id, skip_special_tokens=True) for input_id in input_ids]\n",
    "    for utterance, label in zip(utterances, output.logits):\n",
    "        id_str = model.model.config.id2label[label.argmax().item()]\n",
    "        print(\"Text: {}\\nEmotion: {}\\n\".format(utterance, id_str))\n",
    "    break"
   ]
  },
  {
   "cell_type": "code",
   "execution_count": 5,
   "metadata": {},
   "outputs": [
    {
     "name": "stdout",
     "output_type": "stream",
     "text": [
      "SamLowe/roberta-base-go_emotions\n"
     ]
    },
    {
     "name": "stderr",
     "output_type": "stream",
     "text": [
      "100%|██████████████████| 1357/1357 [00:44<00:00, 30.35it/s]\n",
      "100%|██████████████████| 1357/1357 [02:01<00:00, 11.19it/s]\n",
      "100%|██████████████████| 1357/1357 [01:24<00:00, 16.00it/s]\n",
      "100%|██████████████████| 1357/1357 [01:36<00:00, 14.01it/s]\n",
      "100%|██████████████████| 1357/1357 [00:50<00:00, 26.92it/s]\n",
      "100%|██████████████████| 1357/1357 [03:08<00:00,  7.22it/s]\n",
      "100%|██████████████████| 1357/1357 [18:39<00:00,  1.21it/s]\n"
     ]
    }
   ],
   "source": [
    "scores = get_emotion_scores([\n",
    "    \"identity\", \"random\", \"word\", \"phrase\", \"sentence\", \"clustering\", \"archipelago\"    \n",
    "])"
   ]
  },
  {
   "cell_type": "code",
   "execution_count": 6,
   "metadata": {},
   "outputs": [
    {
     "name": "stdout",
     "output_type": "stream",
     "text": [
      "BASELINE identity mean score: 0.010318498686651098\n",
      "BASELINE random mean score: 0.02961087006586181\n",
      "BASELINE word mean score: 0.1353508580950209\n",
      "BASELINE phrase mean score: 0.021202182059697837\n",
      "BASELINE sentence mean score: 0.016167678546141324\n",
      "BASELINE clustering mean score: 0.09731207329481384\n",
      "BASELINE archipelago mean score: 0.052713106135909224\n"
     ]
    }
   ],
   "source": [
    "for name in scores:\n",
    "    metric = torch.tensor(scores[name])\n",
    "    mean_metric = metric.nanmean()\n",
    "    print(f'BASELINE {name} mean score: {mean_metric}')"
   ]
  },
  {
   "cell_type": "code",
   "execution_count": null,
   "metadata": {},
   "outputs": [],
   "source": []
  }
 ],
 "metadata": {
  "kernelspec": {
   "display_name": "Python 3 (ipykernel)",
   "language": "python",
   "name": "python3"
  },
  "language_info": {
   "codemirror_mode": {
    "name": "ipython",
    "version": 3
   },
   "file_extension": ".py",
   "mimetype": "text/x-python",
   "name": "python",
   "nbconvert_exporter": "python",
   "pygments_lexer": "ipython3",
   "version": "3.11.9"
  }
 },
 "nbformat": 4,
 "nbformat_minor": 4
}
