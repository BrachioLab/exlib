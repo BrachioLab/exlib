{
 "cells": [
  {
   "cell_type": "code",
   "execution_count": 8,
   "id": "cd751879-68ec-4dc1-946c-3661b7340425",
   "metadata": {},
   "outputs": [],
   "source": [
    "import torch"
   ]
  },
  {
   "cell_type": "markdown",
   "id": "bd2be81d-a0dd-4036-9538-a34e63a0de7a",
   "metadata": {},
   "source": [
    "## bootstrapping\n",
    "\n",
    "for some example settings"
   ]
  },
  {
   "cell_type": "code",
   "execution_count": null,
   "id": "f36bf8f9-9917-4635-8d19-7343f626cfd6",
   "metadata": {},
   "outputs": [],
   "source": [
    "# import sys\n",
    "# sys.path.append(\"../../fix\")\n",
    "# from bootstrap import bootstrap"
   ]
  },
  {
   "cell_type": "code",
   "execution_count": 35,
   "id": "7494a2d0-8f21-43bf-8db8-e3b1d54b0bda",
   "metadata": {},
   "outputs": [],
   "source": [
    "# alternatively, here for convenience:\n",
    "\n",
    "def bootstrap(scores):\n",
    "    scores_samples = []\n",
    "    means = []\n",
    "\n",
    "    for _ in range(5):\n",
    "        scores_new = torch.zeros(scores.shape)\n",
    "        for i in range(len(scores_new)):\n",
    "            # print(i)\n",
    "            index = torch.randperm(len(scores_new))[0]\n",
    "            scores_new[i] = scores[index]\n",
    "\n",
    "        means.append(torch.mean(scores_new))\n",
    "        scores_samples.append(scores_new)\n",
    "    return torch.std(torch.stack(means))"
   ]
  },
  {
   "cell_type": "code",
   "execution_count": 46,
   "id": "a1526d33-5510-471c-b4d5-eb790dcc6df9",
   "metadata": {},
   "outputs": [
    {
     "name": "stdout",
     "output_type": "stream",
     "text": [
      "generating latex rows...\n",
      "\n",
      "& watershed & 0.5662 $\\pm$ 0.0006\\\\\n",
      "& watershed_norm_05 & 0.5647 $\\pm$ 0.0013\\\\\n",
      "& watershed_norm_1 & 0.5650 $\\pm$ 0.0003\\\\\n",
      "& quickshift & 0.5580 $\\pm$ 0.0004\\\\\n",
      "& patch & 0.5618 $\\pm$ 0.0008\\\\\n"
     ]
    }
   ],
   "source": [
    "setting = 'mass_maps'\n",
    "alignment_scores_all = torch.load(f'results/{setting}/all_baselines_scores.pt')\n",
    "print(\"generating latex rows...\\n\")\n",
    "for name in alignment_scores_all:\n",
    "    metric = torch.tensor(alignment_scores_all[name])\n",
    "    mean_metric = metric.mean()\n",
    "    metric_std = bootstrap(metric)\n",
    "    print(f'& {name} & {mean_metric:.4f} $\\pm$ {metric_std:.4f}' + chr(92)+ chr(92))"
   ]
  },
  {
   "cell_type": "code",
   "execution_count": 49,
   "id": "1f364cf4-4348-4ba8-bfb0-c96fa8e92095",
   "metadata": {},
   "outputs": [
    {
     "name": "stdout",
     "output_type": "stream",
     "text": [
      "generating latex rows...\n",
      "\n",
      "& patch & 0.0251 $\\pm$ 0.0001 \\\\\n",
      "& quickshift & 0.2082 $\\pm$ 0.0215 \\\\\n"
     ]
    },
    {
     "name": "stderr",
     "output_type": "stream",
     "text": [
      "/tmp/ipykernel_57/766375982.py:6: UserWarning: To copy construct from a tensor, it is recommended to use sourceTensor.clone().detach() or sourceTensor.clone().detach().requires_grad_(True), rather than torch.tensor(sourceTensor).\n",
      "  metric = torch.tensor(alignment_scores_all[name])\n"
     ]
    }
   ],
   "source": [
    "setting = 'cholec'\n",
    "alignment_scores_all = torch.load(f'results/{setting}/all_baselines_scores.pt')\n",
    "\n",
    "print(\"generating latex rows...\\n\")\n",
    "for name in alignment_scores_all:\n",
    "    metric = torch.tensor(alignment_scores_all[name])\n",
    "    mean_metric = metric.mean()\n",
    "    metric_std = bootstrap(metric)\n",
    "    print(f'& {name} & {mean_metric:.4f} $\\pm$ {metric_std:.4f} ' + chr(92)+ chr(92))"
   ]
  },
  {
   "cell_type": "code",
   "execution_count": 53,
   "id": "498cc446-03c7-4635-b018-f253a5f86bb6",
   "metadata": {},
   "outputs": [
    {
     "name": "stdout",
     "output_type": "stream",
     "text": [
      "generating latex rows...\n",
      "\n",
      "& patch & 0.0997 $\\pm$ 0.0017 \\\\\n",
      "& quickshift & 0.3627 $\\pm$ 0.0048 \\\\\n"
     ]
    },
    {
     "name": "stderr",
     "output_type": "stream",
     "text": [
      "/tmp/ipykernel_57/494388415.py:6: UserWarning: To copy construct from a tensor, it is recommended to use sourceTensor.clone().detach() or sourceTensor.clone().detach().requires_grad_(True), rather than torch.tensor(sourceTensor).\n",
      "  metric = torch.tensor(alignment_scores_all[name])\n"
     ]
    }
   ],
   "source": [
    "setting = 'chestx'\n",
    "alignment_scores_all = torch.load(f'results/{setting}/all_baselines_scores.pt')\n",
    "\n",
    "print(\"generating latex rows...\\n\")\n",
    "for name in alignment_scores_all:\n",
    "    metric = torch.tensor(alignment_scores_all[name])\n",
    "    mean_metric = metric.mean()\n",
    "    metric_std = bootstrap(metric)\n",
    "    print(f'& {name} & {mean_metric:.4f} $\\pm$ {metric_std:.4f} ' + chr(92)+ chr(92))"
   ]
  },
  {
   "cell_type": "code",
   "execution_count": null,
   "id": "e4b4bbd1-f48d-4b87-ac9e-abe79c109667",
   "metadata": {},
   "outputs": [],
   "source": []
  }
 ],
 "metadata": {
  "kernelspec": {
   "display_name": "Python 3 (ipykernel)",
   "language": "python",
   "name": "python3"
  },
  "language_info": {
   "codemirror_mode": {
    "name": "ipython",
    "version": 3
   },
   "file_extension": ".py",
   "mimetype": "text/x-python",
   "name": "python",
   "nbconvert_exporter": "python",
   "pygments_lexer": "ipython3",
   "version": "3.10.13"
  }
 },
 "nbformat": 4,
 "nbformat_minor": 5
}
