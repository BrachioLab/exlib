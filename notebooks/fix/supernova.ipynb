{
 "cells": [
  {
   "cell_type": "code",
   "execution_count": null,
   "id": "bbdb6908",
   "metadata": {},
   "outputs": [],
   "source": [
    "# Uncomment line below to install exlib\n",
    "# !pip install exlib"
   ]
  },
  {
   "cell_type": "code",
   "execution_count": 1,
   "id": "77da3d13-370e-4923-ad38-45e386ecb42a",
   "metadata": {
    "tags": []
   },
   "outputs": [
    {
     "name": "stderr",
     "output_type": "stream",
     "text": [
      "/opt/conda/lib/python3.10/site-packages/huggingface_hub-0.23.2-py3.8.egg/huggingface_hub/file_download.py:1132: FutureWarning: `resume_download` is deprecated and will be removed in version 1.0.0. Downloads always resume when possible. If you want to force a new download, use `force_download=True`.\n"
     ]
    }
   ],
   "source": [
    "import torch\n",
    "import yaml\n",
    "import argparse\n",
    "import torch\n",
    "import torch.nn as nn\n",
    "import numpy as np\n",
    "import matplotlib.pyplot as plt\n",
    "import exlib\n",
    "import math\n",
    "import torch.nn.functional as F\n",
    "\n",
    "from datasets import load_dataset\n",
    "from collections import namedtuple\n",
    "from exlib.datasets.supernova import SupernovaDataset, SupernovaClsModel, SupernovaFIXScores, get_supernova_scores\n",
    "from exlib.features.time_series.chunk import BaselineGroups\n",
    "from exlib.utils.supernova_helper import *\n",
    "from tqdm.auto import tqdm\n",
    "\n",
    "device = torch.device(\"cuda\") if torch.cuda.is_available() else torch.device(\"cpu\")"
   ]
  },
  {
   "cell_type": "markdown",
   "id": "ac1f3a45-00b0-473b-82a5-1f2d04a7b187",
   "metadata": {},
   "source": [
    "### Overview\n",
    "* The objective is to classify astronomical sources that vary with time into different classes"
   ]
  },
  {
   "cell_type": "markdown",
   "id": "b440c7c7-6959-4968-95f3-4b8ac902923c",
   "metadata": {},
   "source": [
    "### Load datasets and pre-trained models"
   ]
  },
  {
   "cell_type": "code",
   "execution_count": 2,
   "id": "7c09859e-2bbd-4dda-9c89-d5785612c409",
   "metadata": {},
   "outputs": [
    {
     "name": "stderr",
     "output_type": "stream",
     "text": [
      "/opt/conda/lib/python3.10/site-packages/torch/_utils.py:831: UserWarning: TypedStorage is deprecated. It will be removed in the future and UntypedStorage will be the only storage class. This should only matter to you if you are using storages directly.  To access UntypedStorage directly, use tensor.untyped_storage() instead of tensor.storage()\n",
      "  return self.fget.__get__(instance, owner)()\n"
     ]
    },
    {
     "name": "stdout",
     "output_type": "stream",
     "text": [
      "num labels: 14\n",
      "Using Fourier PE\n",
      "classifier dropout: 0.2\n"
     ]
    }
   ],
   "source": [
    "test_dataset = SupernovaDataset(data_dir = \"BrachioLab/supernova-timeseries\", split=\"test\")\n",
    "model = SupernovaClsModel(model_path = \"BrachioLab/supernova-classification\")"
   ]
  },
  {
   "cell_type": "markdown",
   "id": "0f567d39-ad30-4821-b953-fddef4696a4f",
   "metadata": {},
   "source": [
    "### Model prediction"
   ]
  },
  {
   "cell_type": "code",
   "execution_count": 3,
   "id": "280f4d98-0c0d-4023-a2ad-21c7b97ee9f3",
   "metadata": {},
   "outputs": [
    {
     "name": "stdout",
     "output_type": "stream",
     "text": [
      "original dataset size: 792\n",
      "remove nans dataset size: 792\n"
     ]
    }
   ],
   "source": [
    "model = model.to(device)\n",
    "test_dataloader = create_test_dataloader(\n",
    "    dataset=test_dataset,\n",
    "    batch_size=5,\n",
    "    compute_loss=True\n",
    ")"
   ]
  },
  {
   "cell_type": "code",
   "execution_count": 4,
   "id": "263e9d59-1528-45dd-ab05-5dd94bac1258",
   "metadata": {},
   "outputs": [
    {
     "data": {
      "application/vnd.jupyter.widget-view+json": {
       "model_id": "74e5a172992e48588ec9e779890e7f73",
       "version_major": 2,
       "version_minor": 0
      },
      "text/plain": [
       "  0%|          | 0/159 [00:00<?, ?it/s]"
      ]
     },
     "metadata": {},
     "output_type": "display_data"
    },
    {
     "name": "stdout",
     "output_type": "stream",
     "text": [
      "accuracy: 0.7967171717171717\n"
     ]
    }
   ],
   "source": [
    "# model prediction\n",
    "with torch.no_grad():\n",
    "    y_true = []\n",
    "    y_pred = []\n",
    "    alignment_scores_all = []\n",
    "    for bi, batch in tqdm(enumerate(test_dataloader), total=len(test_dataloader)):\n",
    "        batch = {k: v.to(device) for k, v in batch.items() if k != \"objid\"}\n",
    "        outputs = model(**batch)\n",
    "        y_true.extend(batch['labels'].cpu().numpy())\n",
    "        y_pred.extend(torch.argmax(outputs.logits, dim=2).squeeze().cpu().numpy())\n",
    "# model prediction\n",
    "print(f\"accuracy: {sum([1 for i, j in zip(y_true, y_pred) if i == j]) / len(y_true)}\")"
   ]
  },
  {
   "cell_type": "markdown",
   "id": "2f51151e-a6d5-43db-b9d4-1d7ab68eea0f",
   "metadata": {},
   "source": [
    "### Feature alignment"
   ]
  },
  {
   "cell_type": "code",
   "execution_count": 5,
   "id": "9446606d-46c6-46e7-b3a3-b306c769e111",
   "metadata": {},
   "outputs": [
    {
     "name": "stdout",
     "output_type": "stream",
     "text": [
      "original dataset size: 792\n",
      "remove nans dataset size: 792\n"
     ]
    }
   ],
   "source": [
    "test_dataloader = create_test_dataloader_raw(\n",
    "    dataset=test_dataset,\n",
    "    batch_size=5,\n",
    "    compute_loss=True\n",
    ")"
   ]
  },
  {
   "cell_type": "code",
   "execution_count": 6,
   "id": "38e4520d-8b2c-4697-9df1-c45bc91ab7fd",
   "metadata": {},
   "outputs": [
    {
     "data": {
      "application/vnd.jupyter.widget-view+json": {
       "model_id": "5e6af3caca38425ea823316503b3d5a6",
       "version_major": 2,
       "version_minor": 0
      },
      "text/plain": [
       "  0%|          | 0/159 [00:00<?, ?it/s]"
      ]
     },
     "metadata": {},
     "output_type": "display_data"
    },
    {
     "name": "stdout",
     "output_type": "stream",
     "text": [
      "fix score: 0.055455425500192425\n"
     ]
    }
   ],
   "source": [
    "fix_score_all = 0\n",
    "elements_all = 0\n",
    "with torch.no_grad():\n",
    "    for bi, batch in tqdm(enumerate(test_dataloader), total=len(test_dataloader)):\n",
    "        \n",
    "        BaselineGroup = BaselineGroups(ngroups=10, window_size=100)\n",
    "        pred_groups = BaselineGroup(**batch)\n",
    "\n",
    "        SupernovaFIXScore = SupernovaFIXScores(sigma=1, nchunk=7, groups = pred_groups)\n",
    "        fix_score = SupernovaFIXScore(**batch)\n",
    "        fix_score_all += fix_score.sum().item()\n",
    "        elements_all += fix_score.numel()\n",
    "fix_score_mean = fix_score_all / elements_all\n",
    "print(f\"fix score: {fix_score_mean}\")"
   ]
  },
  {
   "cell_type": "markdown",
   "id": "26a073ab-5965-4598-b724-353c2bdd50f6",
   "metadata": {},
   "source": [
    "### Baselines\n",
    "- 5 chunks\n",
    "- 10 chunks\n",
    "- 15 chunks"
   ]
  },
  {
   "cell_type": "code",
   "execution_count": 8,
   "id": "4b2325bc-efa3-4f75-b363-59ae13d4c7b9",
   "metadata": {},
   "outputs": [
    {
     "name": "stdout",
     "output_type": "stream",
     "text": [
      "original dataset size: 792\n",
      "remove nans dataset size: 792\n"
     ]
    },
    {
     "data": {
      "application/vnd.jupyter.widget-view+json": {
       "model_id": "746b0c6182bc4e66b72e0dfc802dec3a",
       "version_major": 2,
       "version_minor": 0
      },
      "text/plain": [
       "  0%|          | 0/159 [00:00<?, ?it/s]"
      ]
     },
     "metadata": {},
     "output_type": "display_data"
    },
    {
     "name": "stdout",
     "output_type": "stream",
     "text": [
      "Avg alignment of 5 features: 0.0337\n",
      "Avg alignment of 10 features: 0.0555\n",
      "Avg alignment of 15 features: 0.0554\n"
     ]
    }
   ],
   "source": [
    "scores = get_supernova_scores(dataset=test_dataset, batch_size = 5)"
   ]
  },
  {
   "cell_type": "code",
   "execution_count": null,
   "id": "4b341beb-4d85-4f38-9560-219c9490b360",
   "metadata": {},
   "outputs": [],
   "source": []
  }
 ],
 "metadata": {
  "kernelspec": {
   "display_name": "Python 3 (ipykernel)",
   "language": "python",
   "name": "python3"
  },
  "language_info": {
   "codemirror_mode": {
    "name": "ipython",
    "version": 3
   },
   "file_extension": ".py",
   "mimetype": "text/x-python",
   "name": "python",
   "nbconvert_exporter": "python",
   "pygments_lexer": "ipython3",
   "version": "3.10.13"
  }
 },
 "nbformat": 4,
 "nbformat_minor": 5
}
