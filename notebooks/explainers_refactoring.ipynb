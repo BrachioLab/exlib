{
 "cells": [
  {
   "cell_type": "code",
   "execution_count": 1,
   "id": "c96ad16f-3265-47c5-b0c1-f513f74f8f83",
   "metadata": {},
   "outputs": [],
   "source": [
    "import sys\n",
    "import torch\n",
    "import torch.nn.functional as F\n",
    "from torch.utils.data import Subset\n",
    "from torchvision.utils import save_image\n",
    "import torchvision.models as tvmodels\n",
    "from torchvision import datasets, transforms\n",
    "\n",
    "import segmentation_models_pytorch as smp\n",
    "\n",
    "import numpy as np\n",
    "\n",
    "import matplotlib.pyplot as plt\n",
    "\n",
    "sys.path.insert(0, \"../src\")\n",
    "import exlib\n",
    "from exlib.explainers import *\n",
    "from exlib.explainers.common import *\n",
    "from exlib.modules import *\n",
    "from exlib.datasets.abdomen_organs import *"
   ]
  },
  {
   "cell_type": "code",
   "execution_count": null,
   "id": "807e374d-a7aa-4d8c-8fdf-a55b60a1e3e9",
   "metadata": {},
   "outputs": [],
   "source": []
  },
  {
   "cell_type": "code",
   "execution_count": 2,
   "id": "00c8bdcb-7a5b-4486-bec5-56897ed4e872",
   "metadata": {},
   "outputs": [],
   "source": [
    "DATA_DIR = \"/home/antonxue/foo/data/abdomen_exlib/\"\n",
    "train_dataset = AbdomenOrgans(data_dir=DATA_DIR, split=\"train\")\n",
    "test_dataset = AbdomenOrgans(data_dir=DATA_DIR, split=\"test\")"
   ]
  },
  {
   "cell_type": "code",
   "execution_count": 3,
   "id": "5d449ec2-31ab-49c1-b447-c7ba9e576dca",
   "metadata": {},
   "outputs": [
    {
     "data": {
      "text/plain": [
       "''"
      ]
     },
     "execution_count": 3,
     "metadata": {},
     "output_type": "execute_result"
    }
   ],
   "source": [
    "seg_model = AbdomenSegModel(in_channels=3, num_segments=4)\n",
    "seg_model.eval()\n",
    "\n",
    "cls_model = AbdomenClsModel(in_channels=3, num_classes=6)\n",
    "cls_model.eval()\n",
    "\n",
    "seg2cls_model = Seg2ClsWrapper(seg_model)\n",
    "seg2cls_model.eval()\n",
    ";"
   ]
  },
  {
   "cell_type": "code",
   "execution_count": 4,
   "id": "c5318e68-d345-407e-b53b-ccfaa550c070",
   "metadata": {},
   "outputs": [
    {
     "data": {
      "text/plain": [
       "(torch.Size([3, 6]), torch.Size([3, 4, 384, 640]), torch.Size([3, 4]))"
      ]
     },
     "execution_count": 4,
     "metadata": {},
     "output_type": "execute_result"
    }
   ],
   "source": [
    "x, olabel, glabel = test_dataset[0]\n",
    "X = torch.stack([x, x, x])\n",
    "y_cls = cls_model(X)\n",
    "y_seg = seg_model(X)\n",
    "y_seg2cls = seg2cls_model(X)\n",
    "y_cls.shape, y_seg.shape, y_seg2cls.shape"
   ]
  },
  {
   "cell_type": "code",
   "execution_count": null,
   "id": "39826f8b-d44f-4e6d-913b-af62438adc87",
   "metadata": {},
   "outputs": [],
   "source": []
  },
  {
   "cell_type": "code",
   "execution_count": 5,
   "id": "4f7e569f-e176-4541-b8b6-5b13e81adc57",
   "metadata": {},
   "outputs": [],
   "source": [
    "intg_cls = IntGradImageCls(cls_model)\n",
    "intg_seg = IntGradImageSeg(seg_model)                       \n",
    "\n",
    "lime_cls = LimeImageCls(cls_model)\n",
    "lime_seg = LimeImageSeg(seg_model)\n",
    "\n",
    "shap_cls = ShapImageCls(cls_model)\n",
    "shap_seg = ShapImageSeg(seg_model)\n",
    "# shap_cls_old = TorchImageSHAP(cls_model)"
   ]
  },
  {
   "cell_type": "code",
   "execution_count": null,
   "id": "e8991cbd-a095-44f2-bd71-fc108d9f88c5",
   "metadata": {},
   "outputs": [],
   "source": []
  },
  {
   "cell_type": "code",
   "execution_count": null,
   "id": "178393c5-246d-4b78-9cd5-5d263dccd88d",
   "metadata": {},
   "outputs": [],
   "source": []
  },
  {
   "cell_type": "code",
   "execution_count": null,
   "id": "9d949a8b-77e4-4750-9078-9b8730174d05",
   "metadata": {},
   "outputs": [],
   "source": []
  },
  {
   "cell_type": "code",
   "execution_count": 6,
   "id": "9ff15b46-0c45-4f9b-8010-3ca2df346c5e",
   "metadata": {},
   "outputs": [],
   "source": [
    "################################################################################\n",
    "################################################################################\n",
    "################################################################################"
   ]
  },
  {
   "cell_type": "code",
   "execution_count": null,
   "id": "538df4b0-7abc-43e7-855e-286dab695c38",
   "metadata": {},
   "outputs": [],
   "source": []
  },
  {
   "cell_type": "code",
   "execution_count": 7,
   "id": "3b3113fa-94a1-4d1d-9c8f-bc932f73ade9",
   "metadata": {
    "scrolled": true
   },
   "outputs": [
    {
     "data": {
      "application/vnd.jupyter.widget-view+json": {
       "model_id": "457af5be25954404b67d5ffd1902a30e",
       "version_major": 2,
       "version_minor": 0
      },
      "text/plain": [
       "  0%|          | 0/500 [00:00<?, ?it/s]"
      ]
     },
     "metadata": {},
     "output_type": "display_data"
    },
    {
     "data": {
      "application/vnd.jupyter.widget-view+json": {
       "model_id": "87e8de3d45a34352b631f9b2021669c4",
       "version_major": 2,
       "version_minor": 0
      },
      "text/plain": [
       "  0%|          | 0/500 [00:00<?, ?it/s]"
      ]
     },
     "metadata": {},
     "output_type": "display_data"
    },
    {
     "data": {
      "application/vnd.jupyter.widget-view+json": {
       "model_id": "a2be12cd2ee84fa6868eb881638ac9d2",
       "version_major": 2,
       "version_minor": 0
      },
      "text/plain": [
       "  0%|          | 0/500 [00:00<?, ?it/s]"
      ]
     },
     "metadata": {},
     "output_type": "display_data"
    }
   ],
   "source": [
    "lime_cls_exp = lime_cls(X, t=[0,1,2])\n",
    "lime_cls_attrs = lime_cls_exp.attributions"
   ]
  },
  {
   "cell_type": "code",
   "execution_count": 8,
   "id": "372aa262-17cc-499f-a613-273fb694b126",
   "metadata": {
    "scrolled": true
   },
   "outputs": [
    {
     "data": {
      "application/vnd.jupyter.widget-view+json": {
       "model_id": "72b14d8911a443d0abe52b1052ed25fc",
       "version_major": 2,
       "version_minor": 0
      },
      "text/plain": [
       "  0%|          | 0/500 [00:00<?, ?it/s]"
      ]
     },
     "metadata": {},
     "output_type": "display_data"
    },
    {
     "data": {
      "application/vnd.jupyter.widget-view+json": {
       "model_id": "1197353f19d8477ea710ae8c72b89360",
       "version_major": 2,
       "version_minor": 0
      },
      "text/plain": [
       "  0%|          | 0/500 [00:00<?, ?it/s]"
      ]
     },
     "metadata": {},
     "output_type": "display_data"
    },
    {
     "data": {
      "application/vnd.jupyter.widget-view+json": {
       "model_id": "bf0fbdd6437e4e9ba1419990d02d3496",
       "version_major": 2,
       "version_minor": 0
      },
      "text/plain": [
       "  0%|          | 0/500 [00:00<?, ?it/s]"
      ]
     },
     "metadata": {},
     "output_type": "display_data"
    }
   ],
   "source": [
    "lime_seg_exp = lime_seg(X, t=[0,1,2])\n",
    "lime_seg_attrs = lime_seg_exp.attributions"
   ]
  },
  {
   "cell_type": "code",
   "execution_count": 9,
   "id": "cbcdc0c9-46ad-4d32-aea6-1e718290d73b",
   "metadata": {},
   "outputs": [
    {
     "data": {
      "text/plain": [
       "<matplotlib.image.AxesImage at 0x7efc87f8b460>"
      ]
     },
     "execution_count": 9,
     "metadata": {},
     "output_type": "execute_result"
    },
    {
     "data": {
      "text/plain": [
       "<Figure size 640x480 with 0 Axes>"
      ]
     },
     "metadata": {},
     "output_type": "display_data"
    },
    {
     "data": {
      "image/png": "[encoded data removed]",
      "text/plain": [
       "<Figure size 640x480 with 6 Axes>"
      ]
     },
     "metadata": {},
     "output_type": "display_data"
    }
   ],
   "source": [
    "plt.figure()\n",
    "fig, ax = plt.subplots(2,3)\n",
    "\n",
    "ax[0,0].imshow(lime_cls_attrs[0].numpy().transpose(1,2,0))\n",
    "ax[0,1].imshow(lime_cls_attrs[1].numpy().transpose(1,2,0))\n",
    "ax[0,2].imshow(lime_cls_attrs[2].numpy().transpose(1,2,0))\n",
    "\n",
    "ax[1,0].imshow(lime_seg_attrs[0].numpy().transpose(1,2,0))\n",
    "ax[1,1].imshow(lime_seg_attrs[1].numpy().transpose(1,2,0))\n",
    "ax[1,2].imshow(lime_seg_attrs[2].numpy().transpose(1,2,0))"
   ]
  },
  {
   "cell_type": "code",
   "execution_count": null,
   "id": "cf8b76b0-e75f-4e1c-a2be-438e0d01f342",
   "metadata": {},
   "outputs": [],
   "source": []
  },
  {
   "cell_type": "code",
   "execution_count": null,
   "id": "f940994f-c368-4de9-8c36-c3aab452d84d",
   "metadata": {},
   "outputs": [],
   "source": []
  },
  {
   "cell_type": "code",
   "execution_count": 10,
   "id": "e1a3af3d-1cd4-4b36-85fb-191ed49a6a62",
   "metadata": {},
   "outputs": [
    {
     "name": "stderr",
     "output_type": "stream",
     "text": [
      "100%|██████████| 16/16 [00:00<00:00, 76.77it/s]\n"
     ]
    }
   ],
   "source": [
    "intg_cls_exp = intg_cls(X, [0,1,2], num_steps=16, progress_bar=True)\n",
    "intg_cls_attrs = intg_cls_exp.attributions"
   ]
  },
  {
   "cell_type": "code",
   "execution_count": 11,
   "id": "c7ed1084-65bc-4815-a37b-670a7eaa7960",
   "metadata": {},
   "outputs": [
    {
     "name": "stderr",
     "output_type": "stream",
     "text": [
      "100%|██████████| 16/16 [00:20<00:00,  1.26s/it]\n"
     ]
    }
   ],
   "source": [
    "intg_seg_exp = intg_seg(X, [0,1,2], num_steps=16, progress_bar=True)\n",
    "intg_seg_attrs = intg_seg_exp.attributions"
   ]
  },
  {
   "cell_type": "code",
   "execution_count": 12,
   "id": "60edd011-d7e8-4796-839d-7f5692cedc59",
   "metadata": {},
   "outputs": [
    {
     "name": "stderr",
     "output_type": "stream",
     "text": [
      "Clipping input data to the valid range for imshow with RGB data ([0..1] for floats or [0..255] for integers).\n",
      "Clipping input data to the valid range for imshow with RGB data ([0..1] for floats or [0..255] for integers).\n",
      "Clipping input data to the valid range for imshow with RGB data ([0..1] for floats or [0..255] for integers).\n",
      "Clipping input data to the valid range for imshow with RGB data ([0..1] for floats or [0..255] for integers).\n",
      "Clipping input data to the valid range for imshow with RGB data ([0..1] for floats or [0..255] for integers).\n",
      "Clipping input data to the valid range for imshow with RGB data ([0..1] for floats or [0..255] for integers).\n"
     ]
    },
    {
     "data": {
      "text/plain": [
       "<matplotlib.image.AxesImage at 0x7efc78e3c7c0>"
      ]
     },
     "execution_count": 12,
     "metadata": {},
     "output_type": "execute_result"
    },
    {
     "data": {
      "text/plain": [
       "<Figure size 640x480 with 0 Axes>"
      ]
     },
     "metadata": {},
     "output_type": "display_data"
    },
    {
     "data": {
      "image/png": "[encoded data removed]",
      "text/plain": [
       "<Figure size 640x480 with 6 Axes>"
      ]
     },
     "metadata": {},
     "output_type": "display_data"
    }
   ],
   "source": [
    "plt.figure()\n",
    "fig, ax = plt.subplots(2,3)\n",
    "\n",
    "ax[0,0].imshow(intg_cls_attrs[0].numpy().transpose(1,2,0))\n",
    "ax[0,1].imshow(intg_cls_attrs[1].numpy().transpose(1,2,0))\n",
    "ax[0,2].imshow(intg_cls_attrs[2].numpy().transpose(1,2,0))\n",
    "\n",
    "ax[1,0].imshow(intg_seg_attrs[0].numpy().transpose(1,2,0))\n",
    "ax[1,1].imshow(intg_seg_attrs[1].numpy().transpose(1,2,0))\n",
    "ax[1,2].imshow(intg_seg_attrs[2].numpy().transpose(1,2,0))"
   ]
  },
  {
   "cell_type": "code",
   "execution_count": null,
   "id": "043e9aa5-55e3-4554-b368-e67552067414",
   "metadata": {},
   "outputs": [],
   "source": []
  },
  {
   "cell_type": "code",
   "execution_count": null,
   "id": "303cd49d-2b72-46f2-8209-e17468f4eeca",
   "metadata": {},
   "outputs": [],
   "source": []
  },
  {
   "cell_type": "code",
   "execution_count": 13,
   "id": "789a7bfc-928f-4664-a870-4891888eed9b",
   "metadata": {},
   "outputs": [],
   "source": [
    "################################################################################\n",
    "################################################################################\n",
    "################################################################################"
   ]
  },
  {
   "cell_type": "code",
   "execution_count": null,
   "id": "33d0cfaa-cacf-43e3-b36a-fd8f0172a592",
   "metadata": {},
   "outputs": [],
   "source": []
  },
  {
   "cell_type": "code",
   "execution_count": 14,
   "id": "7805f204-12f4-4f8a-9b01-883a115706bb",
   "metadata": {},
   "outputs": [
    {
     "name": "stderr",
     "output_type": "stream",
     "text": [
      "Partition explainer: 4it [00:10, 10.15s/it]               \n"
     ]
    }
   ],
   "source": [
    "shap_cls_exp = shap_cls(X, [0,1,2,1])\n",
    "shap_cls_attrs = shap_cls_exp.attributions"
   ]
  },
  {
   "cell_type": "code",
   "execution_count": 15,
   "id": "628ee914-43c2-433d-a301-ba1903921cd8",
   "metadata": {},
   "outputs": [
    {
     "data": {
      "text/plain": [
       "torch.Size([3, 3, 384, 640])"
      ]
     },
     "execution_count": 15,
     "metadata": {},
     "output_type": "execute_result"
    }
   ],
   "source": [
    "shap_cls_attrs.shape"
   ]
  },
  {
   "cell_type": "code",
   "execution_count": 16,
   "id": "bdf13b95-4531-4d3c-b728-74779e5d440e",
   "metadata": {},
   "outputs": [
    {
     "data": {
      "text/plain": [
       "(tensor(1.0929e-07, dtype=torch.float64),\n",
       " tensor(-1.1923e-07, dtype=torch.float64))"
      ]
     },
     "execution_count": 16,
     "metadata": {},
     "output_type": "execute_result"
    }
   ],
   "source": [
    "shap_cls_attrs.max(), shap_cls_attrs.min()"
   ]
  },
  {
   "cell_type": "code",
   "execution_count": null,
   "id": "bcdba5ba-c9cd-4046-9f67-caf76cff327b",
   "metadata": {},
   "outputs": [],
   "source": []
  },
  {
   "cell_type": "code",
   "execution_count": 17,
   "id": "fd525f27-7c4f-4e92-91ce-6eb8d80abc03",
   "metadata": {},
   "outputs": [
    {
     "data": {
      "application/vnd.jupyter.widget-view+json": {
       "model_id": "",
       "version_major": 2,
       "version_minor": 0
      },
      "text/plain": [
       "  0%|          | 0/498 [00:00<?, ?it/s]"
      ]
     },
     "metadata": {},
     "output_type": "display_data"
    },
    {
     "name": "stderr",
     "output_type": "stream",
     "text": [
      "Partition explainer:  33%|███▎      | 1/3 [00:00<?, ?it/s]"
     ]
    },
    {
     "data": {
      "application/vnd.jupyter.widget-view+json": {
       "model_id": "",
       "version_major": 2,
       "version_minor": 0
      },
      "text/plain": [
       "  0%|          | 0/498 [00:00<?, ?it/s]"
      ]
     },
     "metadata": {},
     "output_type": "display_data"
    },
    {
     "name": "stderr",
     "output_type": "stream",
     "text": [
      "Partition explainer: 100%|██████████| 3/3 [02:04<00:00, 30.07s/it]"
     ]
    },
    {
     "data": {
      "application/vnd.jupyter.widget-view+json": {
       "model_id": "",
       "version_major": 2,
       "version_minor": 0
      },
      "text/plain": [
       "  0%|          | 0/498 [00:00<?, ?it/s]"
      ]
     },
     "metadata": {},
     "output_type": "display_data"
    },
    {
     "name": "stderr",
     "output_type": "stream",
     "text": [
      "Partition explainer: 4it [03:10, 63.57s/it]                       \n"
     ]
    }
   ],
   "source": [
    "shap_seg_exp = shap_seg(X, [0,1,2,1])\n",
    "shap_seg_attrs = shap_seg_exp.attributions"
   ]
  },
  {
   "cell_type": "code",
   "execution_count": 18,
   "id": "4452d7b2-d5a8-44bf-948e-97ac34531759",
   "metadata": {},
   "outputs": [
    {
     "data": {
      "text/plain": [
       "torch.Size([3, 3, 384, 640])"
      ]
     },
     "execution_count": 18,
     "metadata": {},
     "output_type": "execute_result"
    }
   ],
   "source": [
    "shap_seg_attrs.shape"
   ]
  },
  {
   "cell_type": "code",
   "execution_count": 19,
   "id": "1dd147c4-4da3-48f4-8291-d8fe395f5eef",
   "metadata": {},
   "outputs": [
    {
     "data": {
      "text/plain": [
       "(tensor(-0.0068, dtype=torch.float64), tensor(0.0671, dtype=torch.float64))"
      ]
     },
     "execution_count": 19,
     "metadata": {},
     "output_type": "execute_result"
    }
   ],
   "source": [
    "shap_seg_attrs.min(), shap_seg_attrs.max()"
   ]
  },
  {
   "cell_type": "code",
   "execution_count": null,
   "id": "a25cde4c-424b-42b2-b4c5-5397f277a209",
   "metadata": {},
   "outputs": [],
   "source": []
  },
  {
   "cell_type": "code",
   "execution_count": 20,
   "id": "83814777-0a0c-4f32-9fb4-aaf013b45142",
   "metadata": {},
   "outputs": [
    {
     "name": "stderr",
     "output_type": "stream",
     "text": [
      "Clipping input data to the valid range for imshow with RGB data ([0..1] for floats or [0..255] for integers).\n",
      "Clipping input data to the valid range for imshow with RGB data ([0..1] for floats or [0..255] for integers).\n",
      "Clipping input data to the valid range for imshow with RGB data ([0..1] for floats or [0..255] for integers).\n",
      "Clipping input data to the valid range for imshow with RGB data ([0..1] for floats or [0..255] for integers).\n",
      "Clipping input data to the valid range for imshow with RGB data ([0..1] for floats or [0..255] for integers).\n",
      "Clipping input data to the valid range for imshow with RGB data ([0..1] for floats or [0..255] for integers).\n"
     ]
    },
    {
     "data": {
      "text/plain": [
       "<matplotlib.image.AxesImage at 0x7efc4fff0400>"
      ]
     },
     "execution_count": 20,
     "metadata": {},
     "output_type": "execute_result"
    },
    {
     "data": {
      "text/plain": [
       "<Figure size 640x480 with 0 Axes>"
      ]
     },
     "metadata": {},
     "output_type": "display_data"
    },
    {
     "data": {
      "image/png": "[encoded data removed]",
      "text/plain": [
       "<Figure size 640x480 with 6 Axes>"
      ]
     },
     "metadata": {},
     "output_type": "display_data"
    }
   ],
   "source": [
    "plt.figure()\n",
    "fig, ax = plt.subplots(2,3)\n",
    "\n",
    "ax[0,0].imshow(shap_cls_attrs[0].numpy().transpose(1,2,0))\n",
    "ax[0,1].imshow(shap_cls_attrs[1].numpy().transpose(1,2,0))\n",
    "ax[0,2].imshow(shap_cls_attrs[2].numpy().transpose(1,2,0))\n",
    "\n",
    "ax[1,0].imshow(shap_seg_attrs[0].numpy().transpose(1,2,0))\n",
    "ax[1,1].imshow(shap_seg_attrs[1].numpy().transpose(1,2,0))\n",
    "ax[1,2].imshow(shap_seg_attrs[2].numpy().transpose(1,2,0))"
   ]
  },
  {
   "cell_type": "code",
   "execution_count": null,
   "id": "48e86772-75ac-4e74-8049-d4ca01291808",
   "metadata": {},
   "outputs": [],
   "source": []
  },
  {
   "cell_type": "code",
   "execution_count": null,
   "id": "ede0ea8c-cbb1-43ac-a138-3e8ddeeb8f51",
   "metadata": {},
   "outputs": [],
   "source": []
  }
 ],
 "metadata": {
  "kernelspec": {
   "display_name": "Python 3 (ipykernel)",
   "language": "python",
   "name": "python3"
  },
  "language_info": {
   "codemirror_mode": {
    "name": "ipython",
    "version": 3
   },
   "file_extension": ".py",
   "mimetype": "text/x-python",
   "name": "python",
   "nbconvert_exporter": "python",
   "pygments_lexer": "ipython3",
   "version": "3.10.12"
  }
 },
 "nbformat": 4,
 "nbformat_minor": 5
}
