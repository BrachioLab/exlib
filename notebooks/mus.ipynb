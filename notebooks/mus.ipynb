{
 "cells": [
  {
   "cell_type": "code",
   "execution_count": 1,
   "id": "d26ab6d5-523c-41bb-8c66-2d153170c656",
   "metadata": {},
   "outputs": [],
   "source": [
    "import sys\n",
    "import torch\n",
    "from torch.utils.data import Subset\n",
    "import torchvision.models as tvmodels\n",
    "from torchvision import datasets, transforms\n",
    "\n",
    "sys.path.insert(0, \"../src\")\n",
    "import exlib\n",
    "from exlib.modules import *"
   ]
  },
  {
   "cell_type": "code",
   "execution_count": null,
   "id": "56f3d801-6626-4901-9e4c-a0acbc9913c8",
   "metadata": {},
   "outputs": [],
   "source": []
  },
  {
   "cell_type": "code",
   "execution_count": 2,
   "id": "8e2bc6db-64e6-4f59-8bee-0a1efe0c7fc3",
   "metadata": {},
   "outputs": [],
   "source": [
    "IMAGENET_VAL_DIR = \"/data/imagenet/val\"\n",
    "imagenet = datasets.ImageFolder(\n",
    "    IMAGENET_VAL_DIR,\n",
    "    transforms.Compose([\n",
    "        transforms.Resize(256),\n",
    "        transforms.CenterCrop(224),\n",
    "        transforms.ToTensor(),\n",
    "        transforms.Normalize(mean=[0.485, 0.456, 0.406], std=[0.229, 0.224, 0.225])\n",
    "    ])\n",
    ")\n",
    "\n",
    "torch.manual_seed(123)\n",
    "imagenet = Subset(imagenet, indices=torch.randperm(len(imagenet)))"
   ]
  },
  {
   "cell_type": "code",
   "execution_count": null,
   "id": "bd37cc46-5b0f-4122-a983-b03e22aa94da",
   "metadata": {},
   "outputs": [],
   "source": []
  },
  {
   "cell_type": "code",
   "execution_count": 3,
   "id": "3d9dee5c-c064-4b5e-a650-43160605c374",
   "metadata": {},
   "outputs": [],
   "source": [
    "MODEL_PATH = \"/home/antonxue/foo/mus/saved_models/\" \\\n",
    "             + \"vit16_durt_psz28_ft__0.5000_0.2500__epoch5.pt\"\n",
    "state_dict = torch.load(MODEL_PATH)\n",
    "vit16 = tvmodels.vit_b_16()\n",
    "vit16.load_state_dict(state_dict)\n",
    "mus_vit16 = VisionMuS(vit16, q=64, lambd=0.50, patch_size=28, \\\n",
    "                      image_shape=torch.Size([3,224,224]))\n",
    "mus_vit16.eval();"
   ]
  },
  {
   "cell_type": "code",
   "execution_count": null,
   "id": "55f320b1-5ed1-4848-858c-dca4f20e091c",
   "metadata": {},
   "outputs": [],
   "source": []
  },
  {
   "cell_type": "code",
   "execution_count": 4,
   "id": "6dc561de-53d3-473b-b57f-a8dd8adb51db",
   "metadata": {},
   "outputs": [],
   "source": [
    "x0, y0 = imagenet[0]\n",
    "x1, y1 = imagenet[1]\n",
    "x2, y2 = imagenet[2]\n",
    "X = torch.stack([x0, x1, x2])"
   ]
  },
  {
   "cell_type": "code",
   "execution_count": 5,
   "id": "1f4d704e-8312-4034-92da-028d3edf8985",
   "metadata": {},
   "outputs": [
    {
     "data": {
      "text/plain": [
       "(tensor([247, 508, 165]), [247, 620, 165])"
      ]
     },
     "execution_count": 5,
     "metadata": {},
     "output_type": "execute_result"
    }
   ],
   "source": [
    "with torch.no_grad():\n",
    "    y = vit16(X)\n",
    "\n",
    "y.argmax(dim=1), [y0, y1, y2]"
   ]
  },
  {
   "cell_type": "code",
   "execution_count": null,
   "id": "43eb5757-be17-43a3-bb6c-2a298763bcdc",
   "metadata": {},
   "outputs": [],
   "source": []
  },
  {
   "cell_type": "code",
   "execution_count": null,
   "id": "7078382a-80cc-4609-b9a2-d6f449f9f630",
   "metadata": {},
   "outputs": [],
   "source": []
  },
  {
   "cell_type": "code",
   "execution_count": null,
   "id": "8f0fc366-8946-4ea7-a3b1-d7b78a8ca144",
   "metadata": {},
   "outputs": [],
   "source": []
  }
 ],
 "metadata": {
  "kernelspec": {
   "display_name": "Python 3 (ipykernel)",
   "language": "python",
   "name": "python3"
  },
  "language_info": {
   "codemirror_mode": {
    "name": "ipython",
    "version": 3
   },
   "file_extension": ".py",
   "mimetype": "text/x-python",
   "name": "python",
   "nbconvert_exporter": "python",
   "pygments_lexer": "ipython3",
   "version": "3.10.12"
  }
 },
 "nbformat": 4,
 "nbformat_minor": 5
}
