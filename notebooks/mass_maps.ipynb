{
 "cells": [
  {
   "cell_type": "code",
   "execution_count": 1,
   "id": "047fdfcb",
   "metadata": {},
   "outputs": [],
   "source": [
    "import sys\n",
    "sys.path.append('/Users/exwong/github/exlib/src')\n",
    "import exlib"
   ]
  },
  {
   "cell_type": "code",
   "execution_count": 2,
   "id": "435c5e7b",
   "metadata": {},
   "outputs": [],
   "source": [
    "import torch\n",
    "import torch.nn.functional as F\n",
    "from exlib.datasets.massmaps import MassMaps, MassMapsPspnet\n",
    "\n",
    "batch_size = 5\n",
    "DATA_DIR = \"./data/\"\n",
    "\n",
    "test_dataset = MassMaps(DATA_DIR, \n",
    "                        split='test')\n",
    "loader = torch.utils.data.DataLoader(test_dataset, batch_size=batch_size)\n",
    "model = MassMapsPspnet(DATA_DIR)"
   ]
  },
  {
   "cell_type": "code",
   "execution_count": 3,
   "id": "a664b2d0",
   "metadata": {},
   "outputs": [
    {
     "name": "stdout",
     "output_type": "stream",
     "text": [
      "tensor([[0.1918, 0.9656],\n",
      "        [0.1325, 1.1280],\n",
      "        [0.2478, 0.5533],\n",
      "        [0.3206, 0.7607],\n",
      "        [0.0986, 1.1717]], grad_fn=<AddmmBackward0>) tensor([[0.1846, 0.9884],\n",
      "        [0.1037, 1.1905],\n",
      "        [0.2908, 0.4728],\n",
      "        [0.2787, 0.7530],\n",
      "        [0.1245, 1.1571]]) tensor(0.0016, grad_fn=<MseLossBackward0>)\n"
     ]
    }
   ],
   "source": [
    "for X,y in loader:\n",
    "    X,y = X.float(), y.float()\n",
    "    out = model(X)\n",
    "    loss = F.mse_loss(out, y)\n",
    "    print(out, y, loss)\n",
    "    break"
   ]
  },
  {
   "cell_type": "code",
   "execution_count": 4,
   "id": "ba0dbf48",
   "metadata": {},
   "outputs": [
    {
     "name": "stderr",
     "output_type": "stream",
     "text": [
      "/Users/exwong/miniconda3/envs/pytorch-2.0/lib/python3.11/site-packages/tqdm/auto.py:21: TqdmWarning: IProgress not found. Please update jupyter and ipywidgets. See https://ipywidgets.readthedocs.io/en/stable/user_install.html\n",
      "  from .autonotebook import tqdm as notebook_tqdm\n",
      "100%|██████████████████████████████████████████████████████████████████████| 1000/1000 [00:00<00:00, 1746.42it/s]\n",
      "100%|██████████████████████████████████████████████████████████████████████| 1000/1000 [00:00<00:00, 1380.56it/s]\n",
      "100%|██████████████████████████████████████████████████████████████████████| 1000/1000 [00:00<00:00, 1791.35it/s]\n",
      "100%|██████████████████████████████████████████████████████████████████████| 1000/1000 [00:00<00:00, 1797.50it/s]\n",
      "100%|██████████████████████████████████████████████████████████████████████| 1000/1000 [00:00<00:00, 1867.61it/s]\n"
     ]
    }
   ],
   "source": [
    "from exlib.explainers.lime import explain_torch_reg_with_lime, patch_segmenter\n",
    "    \n",
    "output = explain_torch_reg_with_lime(X, model, \n",
    "                                           segmentation_fn=patch_segmenter,\n",
    "                                           top_labels=5, \n",
    "                                           hide_color=0, \n",
    "                                           num_samples=1000)\n",
    "\n",
    "explanations = output[\"lime_explanations\"]"
   ]
  },
  {
   "cell_type": "code",
   "execution_count": 11,
   "id": "976f2d26",
   "metadata": {},
   "outputs": [
    {
     "data": {
      "text/plain": [
       "<matplotlib.image.AxesImage at 0x153ec40d0>"
      ]
     },
     "execution_count": 11,
     "metadata": {},
     "output_type": "execute_result"
    },
    {
     "data": {
      "image/png": "[encoded data removed]",
      "text/plain": [
       "<Figure size 432x288 with 1 Axes>"
      ]
     },
     "metadata": {
      "needs_background": "light"
     },
     "output_type": "display_data"
    }
   ],
   "source": [
    "from skimage.segmentation import mark_boundaries\n",
    "import matplotlib\n",
    "%matplotlib inline\n",
    "import matplotlib.pyplot as plt\n",
    "\n",
    "explanation = explanations[1]\n",
    "\n",
    "temp, mask = explanation.get_image_and_mask(explanation.top_labels[0], positive_only=False, num_features=8, hide_rest=False)\n",
    "X_min, X_max = temp.min(), temp.max()\n",
    "img_boundry1 = mark_boundaries((temp-X_min)/(X_max-X_min), mask)\n",
    "plt.imshow(img_boundry1, vmin=0, vmax=1, cmap='bwr')"
   ]
  },
  {
   "cell_type": "code",
   "execution_count": null,
   "id": "3ed233b9",
   "metadata": {},
   "outputs": [],
   "source": []
  }
 ],
 "metadata": {
  "kernelspec": {
   "display_name": "Python 3 (ipykernel)",
   "language": "python",
   "name": "python3"
  },
  "language_info": {
   "codemirror_mode": {
    "name": "ipython",
    "version": 3
   },
   "file_extension": ".py",
   "mimetype": "text/x-python",
   "name": "python",
   "nbconvert_exporter": "python",
   "pygments_lexer": "ipython3",
   "version": "3.10.11"
  }
 },
 "nbformat": 4,
 "nbformat_minor": 5
}
