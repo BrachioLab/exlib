{
 "cells": [
  {
   "cell_type": "code",
   "execution_count": 1,
   "id": "c96ad16f-3265-47c5-b0c1-f513f74f8f83",
   "metadata": {},
   "outputs": [
    {
     "ename": "ModuleNotFoundError",
     "evalue": "No module named 'segmentation_models_pytorch'",
     "output_type": "error",
     "traceback": [
      "\u001b[0;31m---------------------------------------------------------------------------\u001b[0m",
      "\u001b[0;31mModuleNotFoundError\u001b[0m                       Traceback (most recent call last)",
      "Cell \u001b[0;32mIn[1], line 9\u001b[0m\n\u001b[1;32m      6\u001b[0m \u001b[38;5;28;01mimport\u001b[39;00m \u001b[38;5;21;01mtorchvision\u001b[39;00m\u001b[38;5;21;01m.\u001b[39;00m\u001b[38;5;21;01mmodels\u001b[39;00m \u001b[38;5;28;01mas\u001b[39;00m \u001b[38;5;21;01mtvmodels\u001b[39;00m\n\u001b[1;32m      7\u001b[0m \u001b[38;5;28;01mfrom\u001b[39;00m \u001b[38;5;21;01mtorchvision\u001b[39;00m \u001b[38;5;28;01mimport\u001b[39;00m datasets, transforms\n\u001b[0;32m----> 9\u001b[0m \u001b[38;5;28;01mimport\u001b[39;00m \u001b[38;5;21;01msegmentation_models_pytorch\u001b[39;00m \u001b[38;5;28;01mas\u001b[39;00m \u001b[38;5;21;01msmp\u001b[39;00m\n\u001b[1;32m     11\u001b[0m \u001b[38;5;28;01mimport\u001b[39;00m \u001b[38;5;21;01mnumpy\u001b[39;00m \u001b[38;5;28;01mas\u001b[39;00m \u001b[38;5;21;01mnp\u001b[39;00m\n\u001b[1;32m     13\u001b[0m \u001b[38;5;28;01mimport\u001b[39;00m \u001b[38;5;21;01mmatplotlib\u001b[39;00m\u001b[38;5;21;01m.\u001b[39;00m\u001b[38;5;21;01mpyplot\u001b[39;00m \u001b[38;5;28;01mas\u001b[39;00m \u001b[38;5;21;01mplt\u001b[39;00m\n",
      "\u001b[0;31mModuleNotFoundError\u001b[0m: No module named 'segmentation_models_pytorch'"
     ]
    }
   ],
   "source": [
    "import sys\n",
    "import torch\n",
    "import torch.nn.functional as F\n",
    "from torch.utils.data import Subset\n",
    "from torchvision.utils import save_image\n",
    "import torchvision.models as tvmodels\n",
    "from torchvision import datasets, transforms\n",
    "\n",
    "import segmentation_models_pytorch as smp\n",
    "\n",
    "import numpy as np\n",
    "\n",
    "import matplotlib.pyplot as plt\n",
    "\n",
    "sys.path.insert(0, \"../src\")\n",
    "import exlib\n",
    "from exlib.explainers import *\n",
    "from exlib.modules import *\n",
    "from exlib.datasets.abdomen_organs import *"
   ]
  },
  {
   "cell_type": "code",
   "execution_count": null,
   "id": "807e374d-a7aa-4d8c-8fdf-a55b60a1e3e9",
   "metadata": {},
   "outputs": [],
   "source": []
  },
  {
   "cell_type": "code",
   "execution_count": 2,
   "id": "00c8bdcb-7a5b-4486-bec5-56897ed4e872",
   "metadata": {},
   "outputs": [],
   "source": [
    "DATA_DIR = \"/home/antonxue/foo/data/abdomen_exlib/\"\n",
    "train_dataset = AbdomenOrgans(data_dir=DATA_DIR, split=\"train\")\n",
    "test_dataset = AbdomenOrgans(data_dir=DATA_DIR, split=\"test\")"
   ]
  },
  {
   "cell_type": "code",
   "execution_count": 3,
   "id": "6c3bed51-8f8a-4bc7-a05f-2d60384efe10",
   "metadata": {},
   "outputs": [],
   "source": [
    "state_dict = torch.load(\"/home/antonxue/foo/real_drs/saved_models/weiqiu_model2.pt\")"
   ]
  },
  {
   "cell_type": "code",
   "execution_count": 5,
   "id": "5d449ec2-31ab-49c1-b447-c7ba9e576dca",
   "metadata": {},
   "outputs": [],
   "source": [
    "model = AbdomenSegModel(num_segments=3, in_channels=3)\n",
    "# model.unet = smp.Unet(\n",
    "#         encoder_name = \"resnet50\",\n",
    "#         encoder_weights = \"imagenet\",\n",
    "#         in_channels = 3,\n",
    "#         classes = 3,\n",
    "#         activation = \"softmax2d\"\n",
    "#     )\n",
    "# model.unet.load_state_dict(state_dict[\"model_state_dict\"])\n",
    "model.unet.eval()\n",
    "model.eval();"
   ]
  },
  {
   "cell_type": "code",
   "execution_count": 15,
   "id": "c5318e68-d345-407e-b53b-ccfaa550c070",
   "metadata": {},
   "outputs": [
    {
     "data": {
      "text/plain": [
       "(torch.Size([1, 384, 640]), torch.Size([1, 384, 640]))"
      ]
     },
     "execution_count": 15,
     "metadata": {},
     "output_type": "execute_result"
    }
   ],
   "source": [
    "x, olabel, glabel = test_dataset[0]\n",
    "# y = model(x[None,...])\n",
    "olabel.shape, glabel.shape"
   ]
  },
  {
   "cell_type": "code",
   "execution_count": null,
   "id": "fe0a961c-8e61-4a7d-805f-2e8dbc3a5cf8",
   "metadata": {},
   "outputs": [],
   "source": []
  },
  {
   "cell_type": "code",
   "execution_count": 19,
   "id": "1a219f42-79fb-4dc6-b5aa-06b32df62f7d",
   "metadata": {},
   "outputs": [
    {
     "data": {
      "text/plain": [
       "(torch.Size([4, 384, 640]), torch.Size([3, 384, 640]))"
      ]
     },
     "execution_count": 19,
     "metadata": {},
     "output_type": "execute_result"
    }
   ],
   "source": [
    "omasks = F.one_hot(olabel[0], num_classes=4).permute(2,0,1)\n",
    "gmasks = F.one_hot(glabel[0], num_classes=3).permute(2,0,1)\n",
    "omasks.shape, gmasks.shape"
   ]
  },
  {
   "cell_type": "code",
   "execution_count": 31,
   "id": "d1624c23-5f3b-4370-80a6-8ec2bfbe7248",
   "metadata": {},
   "outputs": [],
   "source": [
    "x_organ0 = x * omasks[0]\n",
    "x_organ1 = x * omasks[1]\n",
    "x_organ2 = x * omasks[2]\n",
    "x_organ3 = x * omasks[3]\n",
    "\n",
    "x_organs = (0 * omasks[0]) + (80 * omasks[1]) + (160 * omasks[2]) + (240 * omasks[3])"
   ]
  },
  {
   "cell_type": "code",
   "execution_count": 32,
   "id": "1e76a2b3-eff6-441c-9de0-62b0cc14c337",
   "metadata": {},
   "outputs": [
    {
     "data": {
      "text/plain": [
       "<matplotlib.image.AxesImage at 0x7fc250added0>"
      ]
     },
     "execution_count": 32,
     "metadata": {},
     "output_type": "execute_result"
    },
    {
     "data": {
      "text/plain": [
       "<Figure size 640x480 with 0 Axes>"
      ]
     },
     "metadata": {},
     "output_type": "display_data"
    },
    {
     "data": {
      "image/png": "[encoded data removed]",
      "text/plain": [
       "<Figure size 640x480 with 5 Axes>"
      ]
     },
     "metadata": {},
     "output_type": "display_data"
    }
   ],
   "source": [
    "plt.figure()\n",
    "fig, ax = plt.subplots(1,5)\n",
    "ax[0].imshow(x_organ0.numpy().transpose(1,2,0))\n",
    "ax[1].imshow(x_organ1.numpy().transpose(1,2,0))\n",
    "ax[2].imshow(x_organ2.numpy().transpose(1,2,0))\n",
    "ax[3].imshow(x_organ3.numpy().transpose(1,2,0))\n",
    "ax[4].imshow(x_organs.numpy())"
   ]
  },
  {
   "cell_type": "code",
   "execution_count": null,
   "id": "7b7b733e-a8bf-49ef-9e12-81c07de52638",
   "metadata": {},
   "outputs": [],
   "source": []
  },
  {
   "cell_type": "code",
   "execution_count": null,
   "id": "e54f867c-ab77-455b-8f47-cf131ab7a696",
   "metadata": {},
   "outputs": [],
   "source": []
  },
  {
   "cell_type": "code",
   "execution_count": 35,
   "id": "12521eab-b6f8-4a23-b181-f888ad9a69f9",
   "metadata": {},
   "outputs": [],
   "source": [
    "x_gng0 = x * gmasks[0]\n",
    "x_gng1 = x * gmasks[1]\n",
    "x_gng2 = x * gmasks[2]\n",
    "x_gngs = (0 * gmasks[0]) + (120 * gmasks[1]) + (240 * gmasks[2])"
   ]
  },
  {
   "cell_type": "code",
   "execution_count": 36,
   "id": "3bb2ff55-d929-4d4d-9cd6-9e7c2dbc6314",
   "metadata": {},
   "outputs": [
    {
     "data": {
      "text/plain": [
       "<matplotlib.image.AxesImage at 0x7fc250951900>"
      ]
     },
     "execution_count": 36,
     "metadata": {},
     "output_type": "execute_result"
    },
    {
     "data": {
      "text/plain": [
       "<Figure size 640x480 with 0 Axes>"
      ]
     },
     "metadata": {},
     "output_type": "display_data"
    },
    {
     "data": {
      "image/png": "[encoded data removed]",
      "text/plain": [
       "<Figure size 640x480 with 4 Axes>"
      ]
     },
     "metadata": {},
     "output_type": "display_data"
    }
   ],
   "source": [
    "plt.figure()\n",
    "fig, ax = plt.subplots(1,4)\n",
    "ax[0].imshow(x_gng0.numpy().transpose(1,2,0))\n",
    "ax[1].imshow(x_gng1.numpy().transpose(1,2,0))\n",
    "ax[2].imshow(x_gng2.numpy().transpose(1,2,0))\n",
    "ax[3].imshow(x_gngs.numpy())"
   ]
  },
  {
   "cell_type": "code",
   "execution_count": null,
   "id": "c19ece35-82cd-4f2b-97f9-949b89942ab0",
   "metadata": {},
   "outputs": [],
   "source": []
  },
  {
   "cell_type": "code",
   "execution_count": null,
   "id": "62dc5eac-fa47-4ec0-8b3b-3eaa131bc14d",
   "metadata": {},
   "outputs": [],
   "source": [
    "# Dump stuff"
   ]
  },
  {
   "cell_type": "code",
   "execution_count": 45,
   "id": "7be3b9ab-957e-41db-9f68-247c6b2d648e",
   "metadata": {},
   "outputs": [],
   "source": [
    "filename = test_dataset.image_filenames[0]\n",
    "saveto_dir = \"/home/antonxue/foo/test/dump/\""
   ]
  },
  {
   "cell_type": "code",
   "execution_count": null,
   "id": "d6949322-c770-43bb-9322-477f217040de",
   "metadata": {},
   "outputs": [],
   "source": []
  },
  {
   "cell_type": "code",
   "execution_count": 52,
   "id": "f7756d1e-b3c2-4f31-a7f5-97424724a927",
   "metadata": {},
   "outputs": [],
   "source": [
    "save_image(x, f\"{saveto_dir}/{filename}\")\n",
    "\n",
    "save_image(x_organ0, f\"{saveto_dir}/{filename}_organ0.png\")\n",
    "save_image(x_organ1, f\"{saveto_dir}/{filename}_organ1.png\")\n",
    "save_image(x_organ2, f\"{saveto_dir}/{filename}_organ2.png\")\n",
    "save_image(x_organ3, f\"{saveto_dir}/{filename}_organ3.png\")\n",
    "save_image(x_organs / 255., f\"{saveto_dir}/{filename}_organs.png\")\n",
    "\n",
    "save_image(x_gng0, f\"{saveto_dir}/{filename}_gng0.png\")\n",
    "save_image(x_gng1, f\"{saveto_dir}/{filename}_gng1.png\")\n",
    "save_image(x_gng2, f\"{saveto_dir}/{filename}_gng2.png\")\n",
    "save_image(x_gngs / 255., f\"{saveto_dir}/{filename}_gngs.png\")"
   ]
  },
  {
   "cell_type": "code",
   "execution_count": null,
   "id": "399e21f6-3bd0-4985-8fd4-950c1b605b7b",
   "metadata": {},
   "outputs": [],
   "source": []
  }
 ],
 "metadata": {
  "kernelspec": {
   "display_name": "Python 3 (ipykernel)",
   "language": "python",
   "name": "python3"
  },
  "language_info": {
   "codemirror_mode": {
    "name": "ipython",
    "version": 3
   },
   "file_extension": ".py",
   "mimetype": "text/x-python",
   "name": "python",
   "nbconvert_exporter": "python",
   "pygments_lexer": "ipython3",
   "version": "3.11.7"
  }
 },
 "nbformat": 4,
 "nbformat_minor": 5
}
