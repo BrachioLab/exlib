{
 "cells": [
  {
   "cell_type": "code",
   "execution_count": null,
   "id": "c96ad16f-3265-47c5-b0c1-f513f74f8f83",
   "metadata": {},
   "outputs": [],
   "source": [
    "import sys\n",
    "import torch\n",
    "import torch.nn.functional as F\n",
    "from torch.utils.data import Subset\n",
    "from torchvision.utils import save_image\n",
    "import torchvision.models as tvmodels\n",
    "from torchvision import datasets, transforms\n",
    "\n",
    "import matplotlib.pyplot as plt\n",
    "\n",
    "sys.path.insert(0, \"../src\")\n",
    "import exlib\n",
    "from exlib.explainers import *\n",
    "from exlib.modules import *\n",
    "from exlib.datasets.abdomen_organs import *"
   ]
  },
  {
   "cell_type": "code",
   "execution_count": null,
   "id": "807e374d-a7aa-4d8c-8fdf-a55b60a1e3e9",
   "metadata": {},
   "outputs": [],
   "source": []
  },
  {
   "cell_type": "code",
   "execution_count": null,
   "id": "00c8bdcb-7a5b-4486-bec5-56897ed4e872",
   "metadata": {},
   "outputs": [],
   "source": [
    "DATA_DIR = \"/home/antonxue/foo/data/abdomen_exlib/\"\n",
    "train_dataset = AbdomenOrgans(data_dir=DATA_DIR, split=\"train\")\n",
    "test_dataset = AbdomenOrgans(data_dir=DATA_DIR, split=\"test\")"
   ]
  },
  {
   "cell_type": "code",
   "execution_count": null,
   "id": "5d449ec2-31ab-49c1-b447-c7ba9e576dca",
   "metadata": {},
   "outputs": [],
   "source": [
    "model = AbodmenSegmentationModel(in_channels=3, out_channels=7)\n",
    "model.eval();"
   ]
  },
  {
   "cell_type": "code",
   "execution_count": null,
   "id": "c5318e68-d345-407e-b53b-ccfaa550c070",
   "metadata": {},
   "outputs": [],
   "source": [
    "x, olabel, glabel = train_dataset[2]\n",
    "y = model(x[None,...])"
   ]
  },
  {
   "cell_type": "code",
   "execution_count": null,
   "id": "d3c6bbf2-73fc-461e-b294-cbe671a53811",
   "metadata": {},
   "outputs": [],
   "source": [
    "x.shape, y.shape, y.argmax(dim=1).shape, (y.argmax(dim=1) == 0)[0].shape"
   ]
  },
  {
   "cell_type": "code",
   "execution_count": null,
   "id": "5ab3fccb-d4b7-4c06-9e72-947b8e268b45",
   "metadata": {},
   "outputs": [],
   "source": [
    "(y.argmax(dim=1) == 1).int()[0].sum()"
   ]
  },
  {
   "cell_type": "code",
   "execution_count": null,
   "id": "fef7931a-f5e3-4403-93a7-64106677d61b",
   "metadata": {},
   "outputs": [],
   "source": [
    "plt.imshow((y.argmax(dim=1) == 6).int()[0].numpy(), cmap=\"gray\")"
   ]
  },
  {
   "cell_type": "code",
   "execution_count": null,
   "id": "3f1cdc59-c202-41e6-84c2-d8dcb04268aa",
   "metadata": {},
   "outputs": [],
   "source": [
    "plt.imshow((y.argmax(dim=1) == 2).int()[0].numpy(), cmap=\"gray\")"
   ]
  },
  {
   "cell_type": "code",
   "execution_count": null,
   "id": "d83a6a62-c936-47c8-a00b-18e232be6892",
   "metadata": {},
   "outputs": [],
   "source": []
  },
  {
   "cell_type": "code",
   "execution_count": null,
   "id": "c66b194c-1a67-4dcd-b3a5-da3fcf551342",
   "metadata": {},
   "outputs": [],
   "source": [
    "plt.figure()\n",
    "fig, ax = plt.subplots(2,2)\n",
    "ax[0,0].imshow(x.numpy().transpose(1,2,0))\n",
    "ax[0,1].imshow(40 * y[0].detach().numpy().transpose(1,2,0))\n",
    "ax[1,0].imshow(30 * olabel.numpy().transpose(1,2,0))\n",
    "ax[1,1].imshow(40 * glabel.numpy().transpose(1,2,0))"
   ]
  },
  {
   "cell_type": "code",
   "execution_count": null,
   "id": "33d0cfaa-cacf-43e3-b36a-fd8f0172a592",
   "metadata": {},
   "outputs": [],
   "source": []
  },
  {
   "cell_type": "code",
   "execution_count": null,
   "id": "fefae8ec-0c27-40b3-bb85-29cf29c62bc1",
   "metadata": {},
   "outputs": [],
   "source": [
    "x, olabel, glabel = test_dataset[2]\n",
    "y = model(x[None,...])"
   ]
  },
  {
   "cell_type": "code",
   "execution_count": null,
   "id": "3346ca95-959d-43e1-923f-28ecc9800cd0",
   "metadata": {},
   "outputs": [],
   "source": [
    "plt.figure()\n",
    "fig, ax = plt.subplots(2,2)\n",
    "ax[0,0].imshow(x.numpy().transpose(1,2,0))\n",
    "ax[0,1].imshow(40 * y[0].detach().numpy().transpose(1,2,0))\n",
    "ax[1,0].imshow(30 * olabel.numpy().transpose(1,2,0))\n",
    "ax[1,1].imshow(40 * glabel.numpy().transpose(1,2,0))"
   ]
  },
  {
   "cell_type": "code",
   "execution_count": null,
   "id": "7b409822-4f0f-4a4b-8f6f-0769f9e423ff",
   "metadata": {},
   "outputs": [],
   "source": []
  },
  {
   "cell_type": "code",
   "execution_count": null,
   "id": "5444a93b-0306-4be2-a1bb-422a35ad39f8",
   "metadata": {},
   "outputs": [],
   "source": [
    "cls_model = AbdomenClassificationModel(3, 10)"
   ]
  },
  {
   "cell_type": "code",
   "execution_count": null,
   "id": "90b7ec33-154b-45df-83f6-a64132091c7a",
   "metadata": {},
   "outputs": [],
   "source": [
    "y = cls_model(x[None,...])"
   ]
  },
  {
   "cell_type": "code",
   "execution_count": null,
   "id": "a36d5a26-d3f4-4cef-94da-acb9893c2925",
   "metadata": {},
   "outputs": [],
   "source": []
  },
  {
   "cell_type": "code",
   "execution_count": null,
   "id": "c69cf446-faad-47a5-870c-046c93099caf",
   "metadata": {},
   "outputs": [],
   "source": [
    "# Try an explainer"
   ]
  },
  {
   "cell_type": "code",
   "execution_count": null,
   "id": "fd58c3c8-a2dc-4ed9-a3a5-fd97b0ca7f7e",
   "metadata": {},
   "outputs": [],
   "source": [
    "explainer = TorchImageSegIntGrad(model)"
   ]
  },
  {
   "cell_type": "code",
   "execution_count": null,
   "id": "3f4211ba-5fc6-4c71-bdae-66e65264caa9",
   "metadata": {},
   "outputs": [],
   "source": [
    "X = torch.stack([x,x])\n",
    "intg = explainer(X, labels=[0,2], num_steps=8)"
   ]
  },
  {
   "cell_type": "code",
   "execution_count": null,
   "id": "b4d01e01-4634-4c64-b145-3a035746e432",
   "metadata": {},
   "outputs": [],
   "source": [
    "plt.figure()\n",
    "fig, ax = plt.subplots(1,2)\n",
    "ax[0].imshow(intg.attributions.detach()[0].numpy().transpose(1,2,0))\n",
    "ax[1].imshow(intg.attributions.detach()[1].numpy().transpose(1,2,0))"
   ]
  },
  {
   "cell_type": "code",
   "execution_count": null,
   "id": "3e16da71-d0b3-4b8f-95a4-543b3abaedcb",
   "metadata": {},
   "outputs": [],
   "source": []
  },
  {
   "cell_type": "code",
   "execution_count": null,
   "id": "84b33cfc-eaa3-4962-abb9-d06392cb47c7",
   "metadata": {},
   "outputs": [],
   "source": [
    "# Use their models. "
   ]
  },
  {
   "cell_type": "code",
   "execution_count": null,
   "id": "ea0a6445-305e-4342-a092-231c50ce5f1a",
   "metadata": {},
   "outputs": [],
   "source": [
    "import segmentation_models_pytorch as smp"
   ]
  },
  {
   "cell_type": "code",
   "execution_count": null,
   "id": "b0bc093d-2aee-44b4-91a0-0ea5b84996bb",
   "metadata": {},
   "outputs": [],
   "source": [
    "# Load the model\n",
    "smp_model = smp.Unet(\n",
    "    encoder_name=\"resnet34\",    # choose encoder, e.g. mobilenet_v2 or efficientnet-b7\n",
    "    encoder_weights=\"imagenet\", # use `imagenet` pre-trained weights for encoder initialization\n",
    "    in_channels=3,              # model input channels (1 for gray-scale images, 3 for RGB, etc.)\n",
    "    classes=3,                  # model output channels (number of classes in your dataset)\n",
    "    activation='softmax2d'\n",
    ")\n",
    "\n",
    "state_dict_path = \"/home/antonxue/foo/real_drs/saved_models/weiqiu_model.pt\"\n",
    "state_dict = torch.load(state_dict_path, map_location=\"cpu\")\n",
    "smp_model.load_state_dict(state_dict[\"model\"])\n",
    "smp_model.eval()\n",
    ";"
   ]
  },
  {
   "cell_type": "code",
   "execution_count": null,
   "id": "028171f2-4cfd-4b3a-9754-f4bbdd127660",
   "metadata": {},
   "outputs": [],
   "source": [
    "x, olabel, glabel = test_dataset[0]\n",
    "\n",
    "x_go = x.clone()\n",
    "x_go[2:,:,] = 1.0\n",
    "x_go = x_go *  (glabel == 1)\n",
    "\n",
    "x_nogo = x.clone()\n",
    "x_nogo[0,:,:] = 1.0\n",
    "x_nogo = x_nogo * (glabel == 2)\n",
    "\n",
    "x_gonogo = (1 - (glabel == 1).int() - (glabel == 2).int()) * x + x_go + x_nogo"
   ]
  },
  {
   "cell_type": "code",
   "execution_count": null,
   "id": "6a8ca8f4-b67c-44a1-9c53-dceb1d155981",
   "metadata": {},
   "outputs": [],
   "source": []
  },
  {
   "cell_type": "code",
   "execution_count": null,
   "id": "f0aa1e16-1aaf-4261-b96b-ae444b531cc1",
   "metadata": {},
   "outputs": [],
   "source": [
    "smp_explainer = TorchImageSegIntGrad(smp_model)"
   ]
  },
  {
   "cell_type": "code",
   "execution_count": null,
   "id": "f9085842-012c-4856-9ce6-5c156c9bc3c2",
   "metadata": {},
   "outputs": [],
   "source": [
    "X = torch.stack([x,x,x])\n",
    "smp_intg = smp_explainer(X, labels=[0,1,2], num_steps=16, progress_bar=True)"
   ]
  },
  {
   "cell_type": "code",
   "execution_count": null,
   "id": "cfc57537-6053-425a-a2e4-9980833bb75c",
   "metadata": {},
   "outputs": [],
   "source": []
  },
  {
   "cell_type": "code",
   "execution_count": null,
   "id": "72a6867e-b2f6-423e-a929-74ba5e3728cf",
   "metadata": {},
   "outputs": [],
   "source": [
    "alphas = smp_intg.attributions.cpu().detach()\n",
    "q = alphas.view(-1).quantile(0.95)\n",
    "pas = (alphas.abs() > q) * 1.0"
   ]
  },
  {
   "cell_type": "code",
   "execution_count": null,
   "id": "7a3becbc-71b5-43b8-862a-fa992064841b",
   "metadata": {},
   "outputs": [],
   "source": [
    "plt.figure()\n",
    "fig, ax = plt.subplots(2,2)\n",
    "ax[0,0].imshow(x.numpy().transpose(1,2,0))\n",
    "ax[0,1].imshow(x_gonogo.numpy().transpose(1,2,0))\n",
    "\n",
    "# ax[0,1].imshow(pas[0].numpy().transpose(1,2,0))\n",
    "ax[1,0].imshow(pas[1].numpy().transpose(1,2,0))\n",
    "ax[1,1].imshow(pas[2].numpy().transpose(1,2,0))"
   ]
  },
  {
   "cell_type": "code",
   "execution_count": null,
   "id": "0a1491d3-f4e9-4dcb-9e0f-7ddd3b474427",
   "metadata": {},
   "outputs": [],
   "source": [
    "xfile = test_dataset.image_filenames[0]\n",
    "xfile"
   ]
  },
  {
   "cell_type": "code",
   "execution_count": null,
   "id": "22d8cd62-20fe-409e-8c00-6b6e1ca3824f",
   "metadata": {},
   "outputs": [],
   "source": [
    "dump_dir = \"/home/antonxue/foo/test/dump/\"\n",
    "save_image(x, dump_dir + xfile)\n",
    "save_image(x_gonogo, dump_dir + xfile + \".gonogo.png\")\n",
    "save_image(pas[0], dump_dir + xfile + \".intgrad.png\")"
   ]
  },
  {
   "cell_type": "code",
   "execution_count": null,
   "id": "a78d9543-5374-4df5-b907-ba842e6b5c8e",
   "metadata": {},
   "outputs": [],
   "source": []
  }
 ],
 "metadata": {
  "kernelspec": {
   "display_name": "Python 3 (ipykernel)",
   "language": "python",
   "name": "python3"
  },
  "language_info": {
   "codemirror_mode": {
    "name": "ipython",
    "version": 3
   },
   "file_extension": ".py",
   "mimetype": "text/x-python",
   "name": "python",
   "nbconvert_exporter": "python",
   "pygments_lexer": "ipython3",
   "version": "3.10.12"
  }
 },
 "nbformat": 4,
 "nbformat_minor": 5
}
