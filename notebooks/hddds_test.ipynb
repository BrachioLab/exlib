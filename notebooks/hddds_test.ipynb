{
 "cells": [
  {
   "cell_type": "code",
   "execution_count": 1,
   "id": "1a6a82d6-307b-402a-9e74-59c78964b7d0",
   "metadata": {},
   "outputs": [],
   "source": [
    "import os\n",
    "import sys\n",
    "import cv2\n",
    "import torch\n",
    "import numpy as np\n",
    "import pandas as pd\n",
    "import matplotlib.pyplot as plt\n",
    "\n",
    "from torch.utils.data import *\n",
    "\n",
    "sys.path.append(\"../src\")\n",
    "import exlib\n",
    "from exlib.datasets.timeseries_anomalies import *"
   ]
  },
  {
   "cell_type": "code",
   "execution_count": 2,
   "id": "d28cb8c9-c2d7-4954-83e2-deaca29b827a",
   "metadata": {},
   "outputs": [],
   "source": [
    "swat_data_dir = \"/home/antonxue/foo/data/swat\"\n",
    "hai_data_dir = \"/home/antonxue/foo/data/hai\"\n",
    "wadi_data_dir = \"/home/antonxue/foo/data/wadi\""
   ]
  },
  {
   "cell_type": "code",
   "execution_count": 3,
   "id": "0bcc34f7-1a1d-4e20-8b8d-aeb5467124d4",
   "metadata": {},
   "outputs": [],
   "source": [
    "swat = SWaT(swat_data_dir, mode=\"single\")\n",
    "hai = HAI(hai_data_dir, mode=\"single\")\n",
    "wadi = WADI(wadi_data_dir, mode=\"single\")\n",
    "\n",
    "swatw = SWaT(swat_data_dir, mode=\"window\", window_len=10)\n",
    "haiw = HAI(hai_data_dir, mode=\"window\", window_len=10)\n",
    "wadiw = WADI(wadi_data_dir, mode=\"window\", window_len=10)"
   ]
  },
  {
   "cell_type": "code",
   "execution_count": 4,
   "id": "f808e2ee-3882-447e-9d1d-7cd29aecf713",
   "metadata": {},
   "outputs": [],
   "source": [
    "x0, a0, y0 = swat[0]\n",
    "x1, a1, y1 = swat[1]\n",
    "x2, a2, y2 = swat[2]\n",
    "x3, a3, y3 = swat[3]"
   ]
  },
  {
   "cell_type": "code",
   "execution_count": null,
   "id": "e2d6494c-e1b9-471c-97e4-badb1552acbf",
   "metadata": {},
   "outputs": [],
   "source": []
  },
  {
   "cell_type": "code",
   "execution_count": 5,
   "id": "0aa3b9ae-323f-4aaa-b9aa-3251079e7f2f",
   "metadata": {},
   "outputs": [],
   "source": [
    "swat_loader = DataLoader(swat, batch_size=4)\n",
    "swatw_loader = DataLoader(swatw, batch_size=4)"
   ]
  },
  {
   "cell_type": "code",
   "execution_count": 6,
   "id": "c2cd6abb-813b-428d-a289-a5afd72edce4",
   "metadata": {},
   "outputs": [
    {
     "data": {
      "text/plain": [
       "(torch.Size([4, 51]), torch.Size([4, 51]), torch.Size([4]))"
      ]
     },
     "execution_count": 6,
     "metadata": {},
     "output_type": "execute_result"
    }
   ],
   "source": [
    "xx, aa, yy = next(iter(swat_loader))\n",
    "xx.shape, aa.shape, yy.shape"
   ]
  },
  {
   "cell_type": "code",
   "execution_count": 7,
   "id": "d596e0af-8c1d-4e7a-8967-a474620c6a2d",
   "metadata": {},
   "outputs": [
    {
     "data": {
      "text/plain": [
       "(torch.Size([4, 10, 51]), torch.Size([4, 10, 51]), torch.Size([4, 10]))"
      ]
     },
     "execution_count": 7,
     "metadata": {},
     "output_type": "execute_result"
    }
   ],
   "source": [
    "xx, aa, yy = next(iter(swatw_loader))\n",
    "xx.shape, aa.shape, yy.shape"
   ]
  },
  {
   "cell_type": "code",
   "execution_count": null,
   "id": "8580dcf1-b26b-4d48-ae64-e908264e6831",
   "metadata": {},
   "outputs": [],
   "source": []
  }
 ],
 "metadata": {
  "kernelspec": {
   "display_name": "Python 3 (ipykernel)",
   "language": "python",
   "name": "python3"
  },
  "language_info": {
   "codemirror_mode": {
    "name": "ipython",
    "version": 3
   },
   "file_extension": ".py",
   "mimetype": "text/x-python",
   "name": "python",
   "nbconvert_exporter": "python",
   "pygments_lexer": "ipython3",
   "version": "3.10.12"
  }
 },
 "nbformat": 4,
 "nbformat_minor": 5
}
