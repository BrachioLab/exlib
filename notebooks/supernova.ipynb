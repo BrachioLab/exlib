{
 "cells": [
  {
   "cell_type": "code",
   "execution_count": 1,
   "id": "77da3d13-370e-4923-ad38-45e386ecb42a",
   "metadata": {
    "tags": []
   },
   "outputs": [],
   "source": [
    "import pyarrow as pa\n",
    "import pyarrow_hotfix\n",
    "import torch\n",
    "import yaml\n",
    "import argparse\n",
    "import torch\n",
    "import torch.nn as nn\n",
    "import numpy as np\n",
    "import exlib\n",
    "\n",
    "from datasets import load_dataset\n",
    "from collections import namedtuple\n",
    "from exlib.datasets.pretrain import setup_model_config, get_dataset, get_dataset, setup_model_config\n",
    "from exlib.datasets.dataset_preprocess_raw import create_train_dataloader_raw, create_test_dataloader_raw\n",
    "from exlib.datasets.informer_models import InformerConfig, InformerForSequenceClassification\n",
    "from tqdm.auto import tqdm\n",
    "pa.PyExtensionType.set_auto_load(True)\n",
    "pyarrow_hotfix.uninstall()\n",
    "device = torch.device(\"cuda\") if torch.cuda.is_available() else torch.device(\"cpu\")"
   ]
  },
  {
   "cell_type": "markdown",
   "id": "734df5cc-e41d-4960-abd8-157dd1928114",
   "metadata": {},
   "source": [
    "### Dataset"
   ]
  },
  {
   "cell_type": "code",
   "execution_count": 2,
   "id": "19f776b1-b426-49fa-a757-7dbb0154e5da",
   "metadata": {
    "tags": []
   },
   "outputs": [],
   "source": [
    "# load dataset\n",
    "dataset = load_dataset(\"BrachioLab/supernova-timeseries\")\n",
    "train_dataset = dataset['train']\n",
    "validation_dataset = dataset['validation']\n",
    "test_dataset = dataset['test']"
   ]
  },
  {
   "cell_type": "markdown",
   "id": "248b8c8a-f919-4a7b-b50c-49cbf00ad320",
   "metadata": {},
   "source": [
    "### Model predictions"
   ]
  },
  {
   "cell_type": "code",
   "execution_count": 4,
   "id": "324aae68-941b-482b-a385-c956165a721e",
   "metadata": {
    "tags": []
   },
   "outputs": [
    {
     "name": "stdout",
     "output_type": "stream",
     "text": [
      "num labels: 14\n",
      "Using Fourier PE\n",
      "classifier dropout: 0.2\n",
      "original dataset size: 792\n",
      "remove nans dataset size: 792\n"
     ]
    }
   ],
   "source": [
    "# load model\n",
    "model = InformerForSequenceClassification.from_pretrained(\"BrachioLab/supernova-classification\")\n",
    "model = model.to(device)\n",
    "config = InformerConfig.from_pretrained(\"BrachioLab/supernova-classification\")\n",
    "test_dataloader = create_test_dataloader_raw(\n",
    "    config=config,\n",
    "    dataset=test_dataset,\n",
    "    batch_size=256,\n",
    "    compute_loss=True\n",
    ")"
   ]
  },
  {
   "cell_type": "code",
   "execution_count": 5,
   "id": "f7f88110-a681-4c31-8124-73a1b4880456",
   "metadata": {},
   "outputs": [
    {
     "data": {
      "application/vnd.jupyter.widget-view+json": {
       "model_id": "02bcac17d3bb468a8198e726d0ac3ab7",
       "version_major": 2,
       "version_minor": 0
      },
      "text/plain": [
       "  0%|          | 0/4 [00:00<?, ?it/s]"
      ]
     },
     "metadata": {},
     "output_type": "display_data"
    },
    {
     "name": "stdout",
     "output_type": "stream",
     "text": [
      "accuracy: 0.7967171717171717\n"
     ]
    }
   ],
   "source": [
    "with torch.no_grad():\n",
    "    y_true = []\n",
    "    y_pred = []\n",
    "    alignment_scores_all = []\n",
    "    for bi, batch in tqdm(enumerate(test_dataloader), total=len(test_dataloader)):\n",
    "        batch = {k: v.to(device) for k, v in batch.items() if k != \"objid\"}\n",
    "        outputs = model(**batch)\n",
    "        y_true.extend(batch['labels'].cpu().numpy())\n",
    "        y_pred.extend(torch.argmax(outputs.logits, dim=2).squeeze().cpu().numpy())\n",
    "# model prediction\n",
    "print(f\"accuracy: {sum([1 for i, j in zip(y_true, y_pred) if i == j]) / len(y_true)}\")"
   ]
  },
  {
   "cell_type": "markdown",
   "id": "2f51151e-a6d5-43db-b9d4-1d7ab68eea0f",
   "metadata": {},
   "source": [
    "### Alignment scores"
   ]
  },
  {
   "cell_type": "code",
   "execution_count": 6,
   "id": "85915d43-4975-4bcf-83e1-663eae0b6ffc",
   "metadata": {},
   "outputs": [],
   "source": [
    "# baseline\n",
    "def baseline(valid_length):\n",
    "    num_groups = (valid_length // 10) + 1\n",
    "    pred_groups = []\n",
    "    for group_idx in range(num_groups):\n",
    "        start_index = group_idx * 10\n",
    "        end_index = min((group_idx + 1) * 10, valid_length)\n",
    "        group_list = [1 if start_index <= i < end_index else 0 for i in range(valid_length)]\n",
    "        pred_groups.append(group_list)\n",
    "    return pred_groups"
   ]
  },
  {
   "cell_type": "code",
   "execution_count": 7,
   "id": "648bde41-786b-435d-a413-a5461265273e",
   "metadata": {},
   "outputs": [],
   "source": [
    "# alignment\n",
    "def process_group_pair(pred_group, true_group, device):\n",
    "    pred_groups = torch.tensor(pred_group, dtype=torch.float32).to(device)\n",
    "    true_groups = torch.tensor(true_group, dtype=torch.float32).to(device)\n",
    "    pred_groups_bool = pred_groups.to(torch.bool)\n",
    "    true_groups_bool = true_groups.to(torch.bool)\n",
    "    intersections = (pred_groups_bool.unsqueeze(1) & true_groups_bool.unsqueeze(0)).float().sum(dim=2)\n",
    "    unions = (pred_groups_bool.unsqueeze(1) | true_groups_bool.unsqueeze(0)).float().sum(dim=2)\n",
    "    ious = intersections / unions\n",
    "    ious = torch.nan_to_num(ious, nan=0.0)\n",
    "    max_iou, _ = torch.max(ious, dim=1)\n",
    "    avg_list = []\n",
    "    for col in range(pred_groups.size(1)):\n",
    "        mask = pred_groups[:, col] == 1\n",
    "        if torch.any(mask):\n",
    "            avg_iou = max_iou[mask].mean().item()\n",
    "        else:\n",
    "            avg_iou = 0\n",
    "        avg_list.append(avg_iou)\n",
    "    return avg_list\n",
    "\n",
    "def calculate_alignment_scores(pred_groups_batch, true_groups_batch, device):\n",
    "    alignment_scores = []\n",
    "    for i in range(len(pred_groups_batch)):\n",
    "        avg_list = process_group_pair(pred_groups_batch[i], true_groups_batch[i], device)\n",
    "        alignment_score = sum(avg_list) / len(avg_list) if avg_list else 0\n",
    "        alignment_scores.append(alignment_score)\n",
    "    return alignment_scores"
   ]
  },
  {
   "cell_type": "code",
   "execution_count": 8,
   "id": "5ec811aa-5734-457f-8995-b7ca2205f7c0",
   "metadata": {},
   "outputs": [
    {
     "data": {
      "application/vnd.jupyter.widget-view+json": {
       "model_id": "bd1895fcc82f425ca57fd8d14e2634f1",
       "version_major": 2,
       "version_minor": 0
      },
      "text/plain": [
       "  0%|          | 0/4 [00:00<?, ?it/s]"
      ]
     },
     "metadata": {},
     "output_type": "display_data"
    },
    {
     "name": "stdout",
     "output_type": "stream",
     "text": [
      "average alignment score: 1.0\n"
     ]
    }
   ],
   "source": [
    "with torch.no_grad():\n",
    "    alignment_scores_all = []\n",
    "    for bi, batch in tqdm(enumerate(test_dataloader), total=len(test_dataloader)):\n",
    "        # prediction\n",
    "        batch = {k: v.to(device) for k, v in batch.items() if k != \"objid\"}\n",
    "        \n",
    "        times_wv_column = batch['past_time_features'].to('cpu')\n",
    "        target_column = batch['past_values'].to('cpu')\n",
    "        x_column = np.concatenate((times_wv_column, target_column), axis=2) # time, wavelength, flux, flux_error\n",
    "        time_values = x_column[:, :, 0].tolist() # time_values is from 0 to 1, and if it is less than 300 random values\n",
    "        \n",
    "        # predicted group\n",
    "        valid_time_values_batch = []\n",
    "        zeros_batch = []\n",
    "        valid_length_batch = []\n",
    "        pred_groups_batch = []\n",
    "        for idx, time_list in enumerate(time_values):\n",
    "            valid_length = next((j for j in range(1, len(time_list)) if time_list[j] <= time_list[j-1]), len(time_list))\n",
    "            valid_time_values_batch.append(time_list[:valid_length])\n",
    "            \n",
    "            pred_groups = baseline(valid_length)\n",
    "            pred_groups_batch.append(pred_groups)\n",
    "            # pred_groups_batch: batch_size * pred_group_num * valid_length\n",
    "\n",
    "        # ground truth group - need to update\n",
    "        true_groups_batch = pred_groups_batch\n",
    "        #true_groups_batch = [[[0.0 for _ in sub_group] for sub_group in group] for group in pred_groups_batch]\n",
    "\n",
    "        # alignment score\n",
    "        alignment_scores = calculate_alignment_scores(pred_groups_batch, true_groups_batch, device)\n",
    "        alignment_scores_all.extend(alignment_scores)\n",
    "# all alignment score\n",
    "print(f\"average alignment score: {sum(alignment_scores_all) / len(alignment_scores_all)}\")"
   ]
  },
  {
   "cell_type": "code",
   "execution_count": null,
   "id": "b8749434-b89f-431e-a545-25c5a2d44927",
   "metadata": {},
   "outputs": [],
   "source": []
  }
 ],
 "metadata": {
  "kernelspec": {
   "display_name": "Python 3 (ipykernel)",
   "language": "python",
   "name": "python3"
  },
  "language_info": {
   "codemirror_mode": {
    "name": "ipython",
    "version": 3
   },
   "file_extension": ".py",
   "mimetype": "text/x-python",
   "name": "python",
   "nbconvert_exporter": "python",
   "pygments_lexer": "ipython3",
   "version": "3.10.13"
  }
 },
 "nbformat": 4,
 "nbformat_minor": 5
}
