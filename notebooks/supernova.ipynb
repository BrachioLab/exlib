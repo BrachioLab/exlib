{
 "cells": [
  {
   "cell_type": "code",
   "execution_count": 1,
   "id": "657428df-42e7-469e-bda3-51f7e81a7e27",
   "metadata": {
    "tags": []
   },
   "outputs": [
    {
     "name": "stderr",
     "output_type": "stream",
     "text": [
      "/opt/conda/envs/rapids/lib/python3.10/site-packages/gluonts/json.py:101: UserWarning: Using `json`-module for json-handling. Consider installing one of `orjson`, `ujson` to speed up serialization and deserialization.\n",
      "  warnings.warn(\n"
     ]
    }
   ],
   "source": [
    "import os\n",
    "import sys\n",
    "sys.path.append(\"/shared_data0/chaenyk/exlib-dev/src\")\n",
    "import exlib\n",
    "from exlib.datasets.supernova import *\n",
    "from datasets import load_dataset\n",
    "\n",
    "pa.PyExtensionType.set_auto_load(True)\n",
    "pyarrow_hotfix.uninstall()"
   ]
  },
  {
   "cell_type": "code",
   "execution_count": 2,
   "id": "466f03fa-0656-4edc-97e8-8154faed9106",
   "metadata": {
    "tags": []
   },
   "outputs": [],
   "source": [
    "DATA_DIR = \"/shared_data0/chaenyk/supernova/raw_train_with_labels\"\n",
    "dataset = Supernova(data_dir=DATA_DIR)\n",
    "train_dataset = dataset['train']\n",
    "test_dataset = dataset['test']"
   ]
  },
  {
   "cell_type": "code",
   "execution_count": 3,
   "id": "2e02895c-0f5b-44ea-9041-aa41f715344f",
   "metadata": {
    "tags": []
   },
   "outputs": [
    {
     "name": "stdout",
     "output_type": "stream",
     "text": [
      "num labels: 14\n",
      "Using Fourier PE\n",
      "classifier dropout: 0.2\n"
     ]
    },
    {
     "data": {
      "text/plain": [
       "SupernovaClsModel(\n",
       "  (model): InformerForSequenceClassification(\n",
       "    (encoder): InformerEncoderFourierPE(\n",
       "      (value_embedding): InformerValueEmbedding(\n",
       "        (value_projection): Linear(in_features=8, out_features=768, bias=False)\n",
       "      )\n",
       "      (embed_positions): MultiDimFourierPE(\n",
       "        (fourier_to_hidden): Linear(in_features=384, out_features=32, bias=True)\n",
       "        (hidden_to_embed): Linear(in_features=32, out_features=768, bias=True)\n",
       "      )\n",
       "      (layers): ModuleList(\n",
       "        (0-7): 8 x InformerEncoderLayer(\n",
       "          (self_attn): InformerProbSparseAttention(\n",
       "            (k_proj): Linear(in_features=768, out_features=768, bias=True)\n",
       "            (v_proj): Linear(in_features=768, out_features=768, bias=True)\n",
       "            (q_proj): Linear(in_features=768, out_features=768, bias=True)\n",
       "            (out_proj): Linear(in_features=768, out_features=768, bias=True)\n",
       "          )\n",
       "          (self_attn_layer_norm): LayerNorm((768,), eps=1e-05, elementwise_affine=True)\n",
       "          (activation_fn): GELUActivation()\n",
       "          (fc1): Linear(in_features=768, out_features=256, bias=True)\n",
       "          (fc2): Linear(in_features=256, out_features=768, bias=True)\n",
       "          (final_layer_norm): LayerNorm((768,), eps=1e-05, elementwise_affine=True)\n",
       "        )\n",
       "      )\n",
       "      (layernorm_embedding): LayerNorm((768,), eps=1e-05, elementwise_affine=True)\n",
       "    )\n",
       "    (dropout): Dropout(p=0.2, inplace=False)\n",
       "    (classifier): Linear(in_features=768, out_features=14, bias=True)\n",
       "  )\n",
       ")"
      ]
     },
     "execution_count": 3,
     "metadata": {},
     "output_type": "execute_result"
    }
   ],
   "source": [
    "model_path = '/shared_data0/chaenyk/supernova/model.pt'\n",
    "config_path = \"/shared_data0/chaenyk/supernova/configs/config.yml\"\n",
    "model = SupernovaClsModel(model_path, config_path)\n",
    "device = torch.device(\"cuda\") if torch.cuda.is_available() else torch.device(\"cpu\")\n",
    "model.to(device)\n",
    "model.eval()"
   ]
  },
  {
   "cell_type": "code",
   "execution_count": 4,
   "id": "dedf6c4d-3381-4e25-bb97-17f12e6822dd",
   "metadata": {
    "tags": []
   },
   "outputs": [
    {
     "name": "stdout",
     "output_type": "stream",
     "text": [
      "original dataset size: 792\n",
      "remove nans dataset size: 792\n"
     ]
    }
   ],
   "source": [
    "test_dataloader = create_test_dataloader_raw(\n",
    "    config=model.model_config,\n",
    "    dataset=test_dataset,\n",
    "    batch_size=256,\n",
    "    compute_loss=True\n",
    ")"
   ]
  },
  {
   "cell_type": "code",
   "execution_count": 5,
   "id": "d838672f-802c-49a2-b161-a28edc35fb8f",
   "metadata": {
    "tags": []
   },
   "outputs": [
    {
     "name": "stdout",
     "output_type": "stream",
     "text": [
      "processing batch 0\n",
      "processing batch 1\n",
      "processing batch 2\n",
      "processing batch 3\n",
      "accuracy: 0.8017676767676768\n"
     ]
    }
   ],
   "source": [
    "y_true = []\n",
    "y_pred = []\n",
    "for i, batch in enumerate(test_dataloader):\n",
    "    print(f\"processing batch {i}\")\n",
    "    batch = {k: v.to(device) for k, v in batch.items() if k != \"objid\"}\n",
    "    with torch.no_grad():\n",
    "        outputs = model(**batch)\n",
    "    y_true.extend(batch['labels'].cpu().numpy())\n",
    "    y_pred.extend(torch.argmax(outputs.logits, dim=2).squeeze().cpu().numpy())\n",
    "print(f\"accuracy: {sum([1 for i, j in zip(y_true, y_pred) if i == j]) / len(y_true)}\")"
   ]
  },
  {
   "cell_type": "code",
   "execution_count": null,
   "id": "efc7a1c7-bce0-4e25-b72c-dd58d4eacbce",
   "metadata": {},
   "outputs": [],
   "source": []
  }
 ],
 "metadata": {
  "kernelspec": {
   "display_name": "Python 3 (ipykernel)",
   "language": "python",
   "name": "python3"
  },
  "language_info": {
   "codemirror_mode": {
    "name": "ipython",
    "version": 3
   },
   "file_extension": ".py",
   "mimetype": "text/x-python",
   "name": "python",
   "nbconvert_exporter": "python",
   "pygments_lexer": "ipython3",
   "version": "3.10.10"
  }
 },
 "nbformat": 4,
 "nbformat_minor": 5
}
