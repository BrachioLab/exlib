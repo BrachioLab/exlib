{
 "cells": [
  {
   "cell_type": "code",
   "execution_count": 1,
   "id": "77da3d13-370e-4923-ad38-45e386ecb42a",
   "metadata": {
    "tags": []
   },
   "outputs": [
    {
     "name": "stderr",
     "output_type": "stream",
     "text": [
      "/opt/conda/lib/python3.10/site-packages/gluonts/json.py:102: UserWarning: Using `json`-module for json-handling. Consider installing one of `orjson`, `ujson` to speed up serialization and deserialization.\n",
      "  warnings.warn(\n"
     ]
    }
   ],
   "source": [
    "import pyarrow as pa\n",
    "import pyarrow_hotfix\n",
    "import torch\n",
    "import yaml\n",
    "import argparse\n",
    "import torch\n",
    "import torch.nn as nn\n",
    "import numpy as np\n",
    "\n",
    "from datasets import load_dataset\n",
    "from collections import namedtuple\n",
    "from exlib.datasets.pretrain import setup_model_config, get_dataset, get_dataset, setup_model_config\n",
    "from exlib.datasets.dataset_preprocess_raw import create_train_dataloader_raw, create_test_dataloader_raw\n",
    "from exlib.datasets.informer_models import InformerConfig, InformerForSequenceClassification\n",
    "pa.PyExtensionType.set_auto_load(True)\n",
    "pyarrow_hotfix.uninstall()\n",
    "device = torch.device(\"cuda\") if torch.cuda.is_available() else torch.device(\"cpu\")"
   ]
  },
  {
   "cell_type": "code",
   "execution_count": 2,
   "id": "19f776b1-b426-49fa-a757-7dbb0154e5da",
   "metadata": {
    "tags": []
   },
   "outputs": [],
   "source": [
    "# load dataset\n",
    "dataset = load_dataset(\"BrachioLab/supernova-timeseries\")\n",
    "train_dataset = dataset['train']\n",
    "validation_dataset = dataset['validation']\n",
    "test_dataset = dataset['test']"
   ]
  },
  {
   "cell_type": "code",
   "execution_count": 3,
   "id": "324aae68-941b-482b-a385-c956165a721e",
   "metadata": {
    "tags": []
   },
   "outputs": [
    {
     "name": "stderr",
     "output_type": "stream",
     "text": [
      "/opt/conda/lib/python3.10/site-packages/torch/_utils.py:831: UserWarning: TypedStorage is deprecated. It will be removed in the future and UntypedStorage will be the only storage class. This should only matter to you if you are using storages directly.  To access UntypedStorage directly, use tensor.untyped_storage() instead of tensor.storage()\n",
      "  return self.fget.__get__(instance, owner)()\n"
     ]
    },
    {
     "name": "stdout",
     "output_type": "stream",
     "text": [
      "num labels: 14\n",
      "Using Fourier PE\n",
      "classifier dropout: 0.2\n"
     ]
    },
    {
     "name": "stderr",
     "output_type": "stream",
     "text": [
      "/opt/conda/lib/python3.10/site-packages/huggingface_hub-0.23.2-py3.8.egg/huggingface_hub/file_download.py:1132: FutureWarning: `resume_download` is deprecated and will be removed in version 1.0.0. Downloads always resume when possible. If you want to force a new download, use `force_download=True`.\n"
     ]
    },
    {
     "data": {
      "application/vnd.jupyter.widget-view+json": {
       "model_id": "0b989ccd3e5749f6bea53a30ebc75311",
       "version_major": 2,
       "version_minor": 0
      },
      "text/plain": [
       "Map:   0%|          | 0/792 [00:00<?, ? examples/s]"
      ]
     },
     "metadata": {},
     "output_type": "display_data"
    },
    {
     "name": "stdout",
     "output_type": "stream",
     "text": [
      "original dataset size: 792\n"
     ]
    },
    {
     "data": {
      "application/vnd.jupyter.widget-view+json": {
       "model_id": "847a2fe659124d77929d45233662e94b",
       "version_major": 2,
       "version_minor": 0
      },
      "text/plain": [
       "Filter:   0%|          | 0/792 [00:00<?, ? examples/s]"
      ]
     },
     "metadata": {},
     "output_type": "display_data"
    },
    {
     "name": "stdout",
     "output_type": "stream",
     "text": [
      "remove nans dataset size: 792\n"
     ]
    },
    {
     "data": {
      "application/vnd.jupyter.widget-view+json": {
       "model_id": "c7e07631ab8943659113a45b8ab927c5",
       "version_major": 2,
       "version_minor": 0
      },
      "text/plain": [
       "Flattening the indices:   0%|          | 0/792 [00:00<?, ? examples/s]"
      ]
     },
     "metadata": {},
     "output_type": "display_data"
    }
   ],
   "source": [
    "# load model\n",
    "model = InformerForSequenceClassification.from_pretrained(\"BrachioLab/supernova-classification\")\n",
    "model = model.to(device)\n",
    "config = InformerConfig.from_pretrained(\"BrachioLab/supernova-classification\")\n",
    "test_dataloader = create_test_dataloader_raw(\n",
    "    config=config,\n",
    "    dataset=test_dataset,\n",
    "    batch_size=256,\n",
    "    compute_loss=True\n",
    ")"
   ]
  },
  {
   "cell_type": "code",
   "execution_count": 10,
   "id": "8680b266-ae29-4493-ad3a-8d7bcedd6595",
   "metadata": {
    "tags": []
   },
   "outputs": [],
   "source": [
    "# baseline\n",
    "def baseline(num_groups, group_length, device):\n",
    "    groups = torch.zeros(num_groups, group_length, device=device)\n",
    "    for i in range(num_groups):\n",
    "        groups[i, 10*i:10*(i+1)] = 1\n",
    "    return groups"
   ]
  },
  {
   "cell_type": "code",
   "execution_count": 11,
   "id": "2dfa68d4-3e3c-4c94-97c3-83d4cb040acf",
   "metadata": {
    "tags": []
   },
   "outputs": [],
   "source": [
    "# groundtruth - need to update\n",
    "def groundtruth(group_length, device):\n",
    "    group = torch.ones(group_length, dtype=torch.int)\n",
    "    group[150:] = 0\n",
    "    groups = torch.stack([group]*10)\n",
    "    return groups"
   ]
  },
  {
   "cell_type": "code",
   "execution_count": 12,
   "id": "8c91d29f-13eb-49c5-a2e1-43b3380a75af",
   "metadata": {
    "tags": []
   },
   "outputs": [],
   "source": [
    "# alignment\n",
    "# iou\n",
    "def calculate_iou(tensor1, tensor2, group_length):\n",
    "    tensor1_bool = tensor1.to(torch.bool)\n",
    "    tensor2_bool = tensor2.to(torch.bool)\n",
    "\n",
    "    intersection = (tensor1_bool & tensor2_bool).float().sum(dim=1)\n",
    "    #union = (tensor1_bool | tensor2_bool).float().sum(dim=1)\n",
    "    #iou = intersection / union\n",
    "    iou = intersection / group_length\n",
    "    return iou\n",
    "\n",
    "# average\n",
    "def compute_average_iou_per_column(pred_groups, best_iou_list, x_column_length):\n",
    "    times_align = []\n",
    "    \n",
    "    for i in range(x_column_length):\n",
    "        time_align = []\n",
    "        for j in range(pred_groups.shape[0]):\n",
    "            if pred_groups[j][i] == 1:\n",
    "                time_align.append(best_iou_list[j])\n",
    "        if time_align:\n",
    "            avg_iou = sum(time_align) / len(time_align)\n",
    "        else:\n",
    "            avg_iou = 0\n",
    "        times_align.append(avg_iou)\n",
    "\n",
    "    return times_align"
   ]
  },
  {
   "cell_type": "code",
   "execution_count": 13,
   "id": "5d144f32-d5d3-4076-9057-336458faa4f4",
   "metadata": {
    "tags": []
   },
   "outputs": [
    {
     "name": "stdout",
     "output_type": "stream",
     "text": [
      "0.01666666753590107\n",
      "0.01666666753590107\n",
      "0.01666666753590107\n",
      "0.01666666753590107\n"
     ]
    }
   ],
   "source": [
    "y_true = []\n",
    "y_pred = []\n",
    "batch_size = 256\n",
    "test_dataloader = torch.utils.data.DataLoader(test_dataset, batch_size=batch_size)\n",
    "for i, batch in enumerate(test_dataloader):\n",
    "    target_column = batch['target']\n",
    "    times_wv_column = batch['times_wv']\n",
    "    x_column = np.concatenate((times_wv_column, target_column), axis=1)\n",
    "    pred_groups = baseline(30, len(x_column), device).to(device)\n",
    "    true_groups = groundtruth(len(x_column), device).to(device)\n",
    "    best_iou_list = []\n",
    "\n",
    "    for pred_group in pred_groups:\n",
    "        ious = calculate_iou(pred_group.unsqueeze(0), true_groups, len(x_column))\n",
    "        best_iou = ious.max().item()\n",
    "        best_iou_list.append(best_iou)\n",
    "        \n",
    "    times_align = compute_average_iou_per_column(pred_groups, best_iou_list, len(x_column))\n",
    "    alignment_score = sum(times_align) / len(times_align)\n",
    "    print(alignment_score)"
   ]
  },
  {
   "cell_type": "markdown",
   "id": "9f224c96-7a08-4f9f-b35d-585212bc31a4",
   "metadata": {},
   "source": [
    "#### ground truth"
   ]
  },
  {
   "cell_type": "code",
   "execution_count": 9,
   "id": "5fe3d7fa-279f-4495-8d8f-ec4a020d0ad8",
   "metadata": {
    "tags": []
   },
   "outputs": [
    {
     "data": {
      "text/plain": [
       "(792, 300, 4)"
      ]
     },
     "execution_count": 9,
     "metadata": {},
     "output_type": "execute_result"
    }
   ],
   "source": [
    "target_column = test_dataset['target']\n",
    "times_wv_column = test_dataset['times_wv']\n",
    "x_column = np.concatenate((times_wv_column, target_column), axis=2)\n",
    "x_column.shape\n",
    "# time wv flux error"
   ]
  },
  {
   "cell_type": "code",
   "execution_count": 69,
   "id": "24d8f2f8-ff5b-4418-b303-a1f749c192b1",
   "metadata": {
    "tags": []
   },
   "outputs": [
    {
     "name": "stdout",
     "output_type": "stream",
     "text": [
      "Example indices by class for the test set: {12: 0, 10: 24, 3: 61, 11: 181, 8: 413, 2: 512, 9: 605, 13: 626, 6: 644, 1: 693, 4: 743, 0: 762, 7: 778, 5: 789}\n"
     ]
    }
   ],
   "source": [
    "def find_example_indices_by_class(dataset):\n",
    "    example_indices = {}  # Dictionary to store index of first occurrence for each class\n",
    "    for index, data in enumerate(test_dataset):\n",
    "        label = test_dataset['label'][index]\n",
    "        if label not in example_indices:\n",
    "            example_indices[label] = index\n",
    "        if len(example_indices) == len(set(test_dataset['label'])):  # Early exit if all classes found\n",
    "            break\n",
    "    return example_indices\n",
    "\n",
    "test_example_indices = find_example_indices_by_class(test_dataset)\n",
    "\n",
    "print(\"Example indices by class for the test set:\", test_example_indices)"
   ]
  },
  {
   "cell_type": "code",
   "execution_count": 70,
   "id": "faea029f-bd6d-4686-b5d3-02192801ad80",
   "metadata": {
    "tags": []
   },
   "outputs": [],
   "source": [
    "def process_data(entries, s=3):\n",
    "    data_by_wv = {}\n",
    "    time_dictionary = {}\n",
    "\n",
    "    for time, wavelength, flux, flux_error in entries:\n",
    "        flux_std = 0 if (flux - (s * flux_error) <= 0 and flux + (s * flux_error) >= 0) else flux\n",
    "\n",
    "        if wavelength not in data_by_wv:\n",
    "            data_by_wv[wavelength] = {'time': [], 'flux': [], 'flux_std': [], 'flux_error': []}\n",
    "        \n",
    "        data_by_wv[wavelength]['time'].append(time)\n",
    "        data_by_wv[wavelength]['flux'].append(flux)\n",
    "        data_by_wv[wavelength]['flux_std'].append(flux_std)\n",
    "        data_by_wv[wavelength]['flux_error'].append(flux_error)\n",
    "\n",
    "        rounded_time = int(time)\n",
    "        if rounded_time not in time_dictionary:\n",
    "            time_dictionary[rounded_time] = []\n",
    "        time_dictionary[rounded_time].append(flux_std)\n",
    "\n",
    "    return data_by_wv, time_dictionary"
   ]
  },
  {
   "cell_type": "code",
   "execution_count": 71,
   "id": "debe8a60-ed29-44dc-9fc5-dfdf0ebed0a2",
   "metadata": {
    "tags": []
   },
   "outputs": [],
   "source": [
    "def create_time_bool_dictionaries(w_size, time_dictionary):\n",
    "    time_bool_dictionary = {k: 1 if any(v != 0 for v in values) else 0 for k, values in time_dictionary.items()}\n",
    "    min_key = min(time_bool_dictionary.keys())\n",
    "    max_key = max(time_bool_dictionary.keys())\n",
    "    all_keys = range(min_key, max_key + 1)\n",
    "    full_window_bool_dictionary = {key: time_bool_dictionary.get(key, 0) for key in all_keys}\n",
    "    \n",
    "    time_bool = list(full_window_bool_dictionary.values())\n",
    "    \n",
    "    window_bool = [1] * len(time_bool)\n",
    "    window_size = w_size\n",
    "    half_window = window_size // 2\n",
    "\n",
    "    for i in range(len(time_bool)):\n",
    "        start = max(0, i - half_window)\n",
    "        end = min(len(time_bool), i + half_window + 1)\n",
    "        if sum(time_bool[start:end]) == 0 and (end - start) == window_size:\n",
    "            window_bool[i] = 0\n",
    "    window_bool_dictionary = {time: window_bool[i] for i, time in enumerate(full_window_bool_dictionary)}\n",
    "    full_window_bool_dictionary = window_bool_dictionary\n",
    "\n",
    "    return time_bool_dictionary, window_bool_dictionary, full_window_bool_dictionary"
   ]
  },
  {
   "cell_type": "code",
   "execution_count": 72,
   "id": "a851fa1a-f2ce-45c1-b1f1-ec00cf126485",
   "metadata": {
    "tags": []
   },
   "outputs": [],
   "source": [
    "def get_continuous_blocks(window_dict):\n",
    "    continuous_blocks = []\n",
    "    current_block = []\n",
    "\n",
    "    sorted_times = sorted(window_dict.keys())\n",
    "    for time in sorted_times:\n",
    "        if window_dict[time] == 1:\n",
    "            if not current_block:\n",
    "                current_block = [time, time]  # Start new block\n",
    "            else:\n",
    "                current_block[1] = time  # Extend current block\n",
    "        else:\n",
    "            if current_block:\n",
    "                continuous_blocks.append(current_block)\n",
    "                current_block = []\n",
    "    if current_block:\n",
    "        continuous_blocks.append(current_block)  # Append the last block if any\n",
    "\n",
    "    return continuous_blocks"
   ]
  },
  {
   "cell_type": "code",
   "execution_count": null,
   "id": "b8749434-b89f-431e-a545-25c5a2d44927",
   "metadata": {},
   "outputs": [],
   "source": []
  }
 ],
 "metadata": {
  "kernelspec": {
   "display_name": "Python 3 (ipykernel)",
   "language": "python",
   "name": "python3"
  },
  "language_info": {
   "codemirror_mode": {
    "name": "ipython",
    "version": 3
   },
   "file_extension": ".py",
   "mimetype": "text/x-python",
   "name": "python",
   "nbconvert_exporter": "python",
   "pygments_lexer": "ipython3",
   "version": "3.10.13"
  }
 },
 "nbformat": 4,
 "nbformat_minor": 5
}
