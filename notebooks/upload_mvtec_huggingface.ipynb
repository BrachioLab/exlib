{
 "cells": [
  {
   "cell_type": "code",
   "execution_count": 1,
   "id": "ea6a37de-7d75-49ef-862c-3a581a797f22",
   "metadata": {},
   "outputs": [
    {
     "name": "stderr",
     "output_type": "stream",
     "text": [
      "/home/antonxue/lib/miniconda3/envs/exlib/lib/python3.11/site-packages/tqdm/auto.py:21: TqdmWarning: IProgress not found. Please update jupyter and ipywidgets. See https://ipywidgets.readthedocs.io/en/stable/user_install.html\n",
      "  from .autonotebook import tqdm as notebook_tqdm\n"
     ]
    }
   ],
   "source": [
    "import os\n",
    "import datasets as hfds\n",
    "import huggingface_hub as hfhub\n",
    "import torch\n",
    "import torchvision.transforms.functional as tff\n",
    "import matplotlib.pyplot as plt\n",
    "\n",
    "import sys\n",
    "sys.path.insert(0, \"../src\")\n",
    "from exlib.datasets.mvtec import *\n",
    "\n",
    "from mvtec import MVTec"
   ]
  },
  {
   "cell_type": "code",
   "execution_count": 2,
   "id": "696762c9-ac95-430e-9905-278b758f4ada",
   "metadata": {},
   "outputs": [
    {
     "name": "stdout",
     "output_type": "stream",
     "text": [
      "The token has not been saved to the git credentials helper. Pass `add_to_git_credential=True` in this function directly or `--add-to-git-credential` if using via `huggingface-cli` if you want to set the git credential as well.\n",
      "Token is valid (permission: write).\n",
      "Your token has been saved to /home/antonxue/.cache/huggingface/token\n",
      "Login successful\n"
     ]
    }
   ],
   "source": [
    "hfhub.login(os.getenv(\"HF_TOKEN\"))"
   ]
  },
  {
   "cell_type": "code",
   "execution_count": null,
   "id": "f1f680a7-1c86-4b87-bb5c-ba4b8717e411",
   "metadata": {},
   "outputs": [],
   "source": []
  },
  {
   "cell_type": "code",
   "execution_count": 3,
   "id": "450635b5-9778-41d3-a862-7e51506021a9",
   "metadata": {},
   "outputs": [],
   "source": [
    "MVTEC_CATEGORIES = [\n",
    "    \"bottle\",\n",
    "    \"cable\",\n",
    "    \"capsule\",\n",
    "    \"carpet\",\n",
    "    \"grid\",\n",
    "    \"hazelnut\",\n",
    "    \"leather\",\n",
    "    \"metal_nut\",\n",
    "    \"pill\",\n",
    "    \"screw\",\n",
    "    \"tile\",\n",
    "    \"toothbrush\",\n",
    "    \"transistor\",\n",
    "    \"wood\",\n",
    "    \"zipper\",\n",
    "]"
   ]
  },
  {
   "cell_type": "code",
   "execution_count": 4,
   "id": "4276dafc-ad34-4075-a1e8-16fff05520b9",
   "metadata": {},
   "outputs": [],
   "source": [
    "# hfds_all = hfds.DatasetDict()\n",
    "\n",
    "# for cat in MVTEC_CATEGORIES:\n",
    "#     mvtec_train = MVTec(\"/home/antonxue/foo/data/mvtec-ad\", cat, split=\"train\")\n",
    "#     mvtec_test = MVTec(\"/home/antonxue/foo/data/mvtec-ad\", cat, split=\"test\")\n",
    "    \n",
    "#     def gen_train():\n",
    "#         for item in mvtec_train:\n",
    "#             yield {\n",
    "#                 \"image\": item[\"image\"],\n",
    "#                 \"mask\": item[\"mask\"],\n",
    "#                 \"label\": item[\"label\"]\n",
    "#             }\n",
    "            \n",
    "#     def gen_test():\n",
    "#         for item in mvtec_test:\n",
    "#             yield {\n",
    "#                 \"image\": item[\"image\"],\n",
    "#                 \"mask\": item[\"mask\"],\n",
    "#                 \"label\": item[\"label\"]\n",
    "#             }\n",
    "\n",
    "#     hfds_all[f\"{cat}.train\"] = hfds.Dataset.from_generator(gen_train)\n",
    "#     hfds_all[f\"{cat}.test\"] = hfds.Dataset.from_generator(gen_test)"
   ]
  },
  {
   "cell_type": "code",
   "execution_count": null,
   "id": "4961f6ee-f529-4def-bfcb-815049372948",
   "metadata": {},
   "outputs": [],
   "source": []
  },
  {
   "cell_type": "code",
   "execution_count": 5,
   "id": "20194768-569c-48f2-b396-90422198ef5f",
   "metadata": {},
   "outputs": [],
   "source": [
    "# plt.clf()\n",
    "# plt.imshow(hfds_all[\"cable.train\"][0][\"image\"])"
   ]
  },
  {
   "cell_type": "code",
   "execution_count": 6,
   "id": "c88f871c-a2c1-4529-9608-783c208444ad",
   "metadata": {},
   "outputs": [],
   "source": [
    "# plt.clf()\n",
    "# plt.imshow(hfds_all[\"cable.test\"][0][\"mask\"])"
   ]
  },
  {
   "cell_type": "code",
   "execution_count": 7,
   "id": "971a999c-4635-4e0e-833d-fea485e08838",
   "metadata": {},
   "outputs": [],
   "source": [
    "# hfds_all.push_to_hub(\"BrachioLab/mvtec-ad\")"
   ]
  },
  {
   "cell_type": "code",
   "execution_count": null,
   "id": "2d7076a6-8cb0-471f-9676-b82f90921d9d",
   "metadata": {},
   "outputs": [],
   "source": []
  },
  {
   "cell_type": "code",
   "execution_count": 8,
   "id": "7756bcc7-56b3-43d8-ad8f-4e0ad2020693",
   "metadata": {},
   "outputs": [],
   "source": [
    "# bottle_train = hfds.load_dataset(\"BrachioLab/mvtec-ad\", split=\"bottle.train\")"
   ]
  },
  {
   "cell_type": "code",
   "execution_count": 9,
   "id": "b7129e31-2832-4b50-a3ec-40becc22729e",
   "metadata": {},
   "outputs": [],
   "source": [
    "# bottle_train[0][\"image\"]"
   ]
  },
  {
   "cell_type": "code",
   "execution_count": 10,
   "id": "5697bc69-2579-4dea-a5d9-fbc2e8a0f656",
   "metadata": {},
   "outputs": [],
   "source": [
    "ds_train = MVTecDataset(\"bottle\", \"train\", image_size=256)\n",
    "ds_test = MVTecDataset(\"bottle\", \"test\", image_size=256)"
   ]
  },
  {
   "cell_type": "code",
   "execution_count": 11,
   "id": "61a52807-ae5e-4e65-9722-c1337cddbcd8",
   "metadata": {},
   "outputs": [
    {
     "name": "stdout",
     "output_type": "stream",
     "text": [
      "torch.Size([3, 256, 256]) torch.Size([256, 256])\n",
      "torch.Size([3, 256, 256]) torch.Size([256, 256])\n"
     ]
    }
   ],
   "source": [
    "print(ds_train[0][\"image\"].shape, ds_train[0][\"mask\"].shape)\n",
    "print(ds_test[0][\"image\"].shape, ds_test[0][\"mask\"].shape)"
   ]
  },
  {
   "cell_type": "code",
   "execution_count": 12,
   "id": "b3f0d24f-7f0f-470c-be28-38690ed5bdba",
   "metadata": {},
   "outputs": [
    {
     "data": {
      "text/plain": [
       "<matplotlib.image.AxesImage at 0x76edae941bd0>"
      ]
     },
     "execution_count": 12,
     "metadata": {},
     "output_type": "execute_result"
    },
    {
     "data": {
      "image/png": "[encoded data removed]",
      "text/plain": [
       "<Figure size 640x480 with 1 Axes>"
      ]
     },
     "metadata": {},
     "output_type": "display_data"
    }
   ],
   "source": [
    "plt.clf()\n",
    "plt.imshow(ds_test[0][\"mask\"].numpy())"
   ]
  },
  {
   "cell_type": "code",
   "execution_count": null,
   "id": "f5d8558f-43b2-4f69-b4a1-9aef4301b3f3",
   "metadata": {},
   "outputs": [],
   "source": []
  }
 ],
 "metadata": {
  "kernelspec": {
   "display_name": "Python 3 (ipykernel)",
   "language": "python",
   "name": "python3"
  },
  "language_info": {
   "codemirror_mode": {
    "name": "ipython",
    "version": 3
   },
   "file_extension": ".py",
   "mimetype": "text/x-python",
   "name": "python",
   "nbconvert_exporter": "python",
   "pygments_lexer": "ipython3",
   "version": "3.11.9"
  }
 },
 "nbformat": 4,
 "nbformat_minor": 5
}
